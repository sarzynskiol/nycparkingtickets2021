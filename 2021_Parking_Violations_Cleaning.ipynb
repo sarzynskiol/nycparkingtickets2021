{
 "cells": [
  {
   "cell_type": "markdown",
   "id": "592ae2db-abce-4be6-aa5a-fd40b8d73cab",
   "metadata": {},
   "source": [
    "# **Project Title Here** 'Cleaning' something something..."
   ]
  },
  {
   "cell_type": "markdown",
   "id": "6c4e4757-3241-41e6-8d54-835e77bcd871",
   "metadata": {},
   "source": [
    "This is the beginning of my very first independent project after completing IBM's Professional Data Analyst Specialization at the end of March, 2022.\n",
    "\n",
    "<p>Roughly 15 million violations were issued by NYC in fiscal year 2021 (July 2020 - June 2021). Our final cleaned dataset is composed of about 6.6 million rows.\n",
    "<br>Unfortunately, many data entries containing null or 'intranslatable' values (i.e. violation time of '45:21 PM') were removed, primarily due to the limitations of my PC.\n",
    "<br>Efforts were made to preserve as much data as possible after initial nan drop by replacing with median/mode/manually input spell-check key:value pairs.</p>\n",
    "\n",
    "The main dataset was obtained from <a href=\"https://data.cityofnewyork.us/City-Government/Parking-Violations-Issued-Fiscal-Year-2021/kvfd-bves\">NYC OpenData</a> using the Socrata OpenData API.\n",
    "\n",
    "Violation and vehicle codes were converted to full text descriptions using information 'scraped' from official nyc.gov documentation. Identical values written in numerous different ways were standardized when able. \n",
    "\n",
    "Below you may find my cleaning process:"
   ]
  },
  {
   "cell_type": "code",
   "execution_count": 1,
   "id": "d46b27f0-d55b-4aa9-abef-af8452f00d40",
   "metadata": {},
   "outputs": [],
   "source": [
    "import pandas as pd\n",
    "import matplotlib.pyplot as plt\n",
    "import seaborn as sns\n",
    "import numpy as np\n",
    "from scipy import stats\n",
    "from datetime import datetime as dt\n",
    "from sodapy import Socrata"
   ]
  },
  {
   "cell_type": "markdown",
   "id": "b769a29a-9fb6-4ee1-8b32-cbfb4f9833ae",
   "metadata": {
    "tags": []
   },
   "source": [
    "#### Importing dataset using Socrata API"
   ]
  },
  {
   "cell_type": "code",
   "execution_count": 2,
   "id": "407f50ee-eb95-4ec1-a292-6df03be9db8c",
   "metadata": {
    "collapsed": true,
    "jupyter": {
     "outputs_hidden": true,
     "source_hidden": true
    },
    "tags": []
   },
   "outputs": [
    {
     "ename": "HTTPError",
     "evalue": "403 Client Error: Forbidden.\n\tInvalid app_token specified",
     "output_type": "error",
     "traceback": [
      "\u001b[1;31m---------------------------------------------------------------------------\u001b[0m",
      "\u001b[1;31mHTTPError\u001b[0m                                 Traceback (most recent call last)",
      "Input \u001b[1;32mIn [2]\u001b[0m, in \u001b[0;36m<cell line: 11>\u001b[1;34m()\u001b[0m\n\u001b[0;32m     10\u001b[0m results \u001b[38;5;241m=\u001b[39m []\n\u001b[0;32m     11\u001b[0m \u001b[38;5;28;01mwhile\u001b[39;00m \u001b[38;5;28;01mTrue\u001b[39;00m:\n\u001b[0;32m     12\u001b[0m      \u001b[38;5;66;03m#records starting at 'start'\u001b[39;00m\n\u001b[1;32m---> 13\u001b[0m      results\u001b[38;5;241m.\u001b[39mextend( \u001b[43mclient\u001b[49m\u001b[38;5;241;43m.\u001b[39;49m\u001b[43mget\u001b[49m\u001b[43m(\u001b[49m\u001b[43mdata_set\u001b[49m\u001b[43m,\u001b[49m\u001b[43m \u001b[49m\n\u001b[0;32m     14\u001b[0m \u001b[43m                     \u001b[49m\u001b[43mselect\u001b[49m\u001b[38;5;241;43m=\u001b[39;49m\u001b[38;5;124;43m\"\"\"\u001b[39;49m\n\u001b[0;32m     15\u001b[0m \u001b[38;5;124;43m                     summons_number, registration_state, plate_type, issue_date, violation_code, vehicle_body_type, \u001b[39;49m\n\u001b[0;32m     16\u001b[0m \u001b[38;5;124;43m                     vehicle_make, violation_precinct, issuer_code, violation_time, violation_county, house_number, \u001b[39;49m\n\u001b[0;32m     17\u001b[0m \u001b[38;5;124;43m                     street_name, vehicle_color, vehicle_year\u001b[39;49m\u001b[38;5;124;43m\"\"\"\u001b[39;49m\u001b[43m,\u001b[49m\n\u001b[0;32m     18\u001b[0m \u001b[43m                     \u001b[49m\u001b[43morder\u001b[49m\u001b[38;5;241;43m=\u001b[39;49m\u001b[38;5;124;43m'\u001b[39;49m\u001b[38;5;124;43missue_date\u001b[39;49m\u001b[38;5;124;43m'\u001b[39;49m\u001b[43m,\u001b[49m\n\u001b[0;32m     19\u001b[0m \u001b[43m                     \u001b[49m\u001b[43moffset\u001b[49m\u001b[38;5;241;43m=\u001b[39;49m\u001b[43mstart\u001b[49m\u001b[43m,\u001b[49m\n\u001b[0;32m     20\u001b[0m \u001b[43m                     \u001b[49m\u001b[43mlimit\u001b[49m\u001b[38;5;241;43m=\u001b[39;49m\u001b[43mchunk_size\u001b[49m\u001b[43m)\u001b[49m)\n\u001b[0;32m     21\u001b[0m      start \u001b[38;5;241m=\u001b[39m start \u001b[38;5;241m+\u001b[39m chunk_size\n\u001b[0;32m     22\u001b[0m      \u001b[38;5;28;01mif\u001b[39;00m (start \u001b[38;5;241m>\u001b[39m end):\n",
      "File \u001b[1;32m~\\AppData\\Roaming\\Python\\Python310\\site-packages\\sodapy\\socrata.py:412\u001b[0m, in \u001b[0;36mSocrata.get\u001b[1;34m(self, dataset_identifier, content_type, **kwargs)\u001b[0m\n\u001b[0;32m    409\u001b[0m params\u001b[38;5;241m.\u001b[39mupdate(kwargs)\n\u001b[0;32m    410\u001b[0m params \u001b[38;5;241m=\u001b[39m utils\u001b[38;5;241m.\u001b[39mclear_empty_values(params)\n\u001b[1;32m--> 412\u001b[0m response \u001b[38;5;241m=\u001b[39m \u001b[38;5;28;43mself\u001b[39;49m\u001b[38;5;241;43m.\u001b[39;49m\u001b[43m_perform_request\u001b[49m\u001b[43m(\u001b[49m\n\u001b[0;32m    413\u001b[0m \u001b[43m    \u001b[49m\u001b[38;5;124;43m\"\u001b[39;49m\u001b[38;5;124;43mget\u001b[39;49m\u001b[38;5;124;43m\"\u001b[39;49m\u001b[43m,\u001b[49m\u001b[43m \u001b[49m\u001b[43mresource\u001b[49m\u001b[43m,\u001b[49m\u001b[43m \u001b[49m\u001b[43mheaders\u001b[49m\u001b[38;5;241;43m=\u001b[39;49m\u001b[43mheaders\u001b[49m\u001b[43m,\u001b[49m\u001b[43m \u001b[49m\u001b[43mparams\u001b[49m\u001b[38;5;241;43m=\u001b[39;49m\u001b[43mparams\u001b[49m\n\u001b[0;32m    414\u001b[0m \u001b[43m\u001b[49m\u001b[43m)\u001b[49m\n\u001b[0;32m    415\u001b[0m \u001b[38;5;28;01mreturn\u001b[39;00m response\n",
      "File \u001b[1;32m~\\AppData\\Roaming\\Python\\Python310\\site-packages\\sodapy\\socrata.py:555\u001b[0m, in \u001b[0;36mSocrata._perform_request\u001b[1;34m(self, request_type, resource, **kwargs)\u001b[0m\n\u001b[0;32m    553\u001b[0m \u001b[38;5;66;03m# handle errors\u001b[39;00m\n\u001b[0;32m    554\u001b[0m \u001b[38;5;28;01mif\u001b[39;00m response\u001b[38;5;241m.\u001b[39mstatus_code \u001b[38;5;129;01mnot\u001b[39;00m \u001b[38;5;129;01min\u001b[39;00m (\u001b[38;5;241m200\u001b[39m, \u001b[38;5;241m202\u001b[39m):\n\u001b[1;32m--> 555\u001b[0m     \u001b[43mutils\u001b[49m\u001b[38;5;241;43m.\u001b[39;49m\u001b[43mraise_for_status\u001b[49m\u001b[43m(\u001b[49m\u001b[43mresponse\u001b[49m\u001b[43m)\u001b[49m\n\u001b[0;32m    557\u001b[0m \u001b[38;5;66;03m# when responses have no content body (ie. delete, set_permission),\u001b[39;00m\n\u001b[0;32m    558\u001b[0m \u001b[38;5;66;03m# simply return the whole response\u001b[39;00m\n\u001b[0;32m    559\u001b[0m \u001b[38;5;28;01mif\u001b[39;00m \u001b[38;5;129;01mnot\u001b[39;00m response\u001b[38;5;241m.\u001b[39mtext:\n",
      "File \u001b[1;32m~\\AppData\\Roaming\\Python\\Python310\\site-packages\\sodapy\\utils.py:30\u001b[0m, in \u001b[0;36mraise_for_status\u001b[1;34m(response)\u001b[0m\n\u001b[0;32m     28\u001b[0m \u001b[38;5;28;01mif\u001b[39;00m more_info \u001b[38;5;129;01mand\u001b[39;00m more_info\u001b[38;5;241m.\u001b[39mlower() \u001b[38;5;241m!=\u001b[39m response\u001b[38;5;241m.\u001b[39mreason\u001b[38;5;241m.\u001b[39mlower():\n\u001b[0;32m     29\u001b[0m     http_error_msg \u001b[38;5;241m+\u001b[39m\u001b[38;5;241m=\u001b[39m \u001b[38;5;124m\"\u001b[39m\u001b[38;5;124m.\u001b[39m\u001b[38;5;130;01m\\n\u001b[39;00m\u001b[38;5;130;01m\\t\u001b[39;00m\u001b[38;5;132;01m{0}\u001b[39;00m\u001b[38;5;124m\"\u001b[39m\u001b[38;5;241m.\u001b[39mformat(more_info)\n\u001b[1;32m---> 30\u001b[0m \u001b[38;5;28;01mraise\u001b[39;00m requests\u001b[38;5;241m.\u001b[39mexceptions\u001b[38;5;241m.\u001b[39mHTTPError(http_error_msg, response\u001b[38;5;241m=\u001b[39mresponse)\n",
      "\u001b[1;31mHTTPError\u001b[0m: 403 Client Error: Forbidden.\n\tInvalid app_token specified"
     ]
    }
   ],
   "source": [
    "# Ordered by date ascending 2021 fiscal year begins on row \\254353 and ends on row \\14955034\n",
    "data_url = 'data.cityofnewyork.us'\n",
    "data_set = 'kvfd-bves'\n",
    "app_token = 'XXXXXXXXXXXXXXXXXXXX'\n",
    "client = Socrata(data_url, app_token)\n",
    "client.timeout = 90\n",
    "start = 254353\n",
    "chunk_size = 50000\n",
    "end = 14955034\n",
    "results = []\n",
    "while True:\n",
    "     #records starting at 'start'\n",
    "     results.extend( client.get(data_set, \n",
    "                     select=\"\"\"\n",
    "                     summons_number, registration_state, plate_type, issue_date, violation_code, vehicle_body_type, \n",
    "                     vehicle_make, violation_precinct, issuer_code, violation_time, violation_county, house_number, \n",
    "                     street_name, vehicle_color, vehicle_year\"\"\",\n",
    "                     order='issue_date',\n",
    "                     offset=start,\n",
    "                     limit=chunk_size))\n",
    "     start = start + chunk_size\n",
    "     if (start > end):\n",
    "        break\n",
    "df = pd.DataFrame.from_records(results)"
   ]
  },
  {
   "cell_type": "markdown",
   "id": "e9a43aec-96ee-40c8-8483-132c5a5df0a5",
   "metadata": {},
   "source": [
    "#### Cleaning/Pruning"
   ]
  },
  {
   "cell_type": "code",
   "execution_count": 3,
   "id": "fd0fbba5-1949-48ba-9587-443398e4604d",
   "metadata": {
    "tags": []
   },
   "outputs": [],
   "source": [
    "# Convert to datetime\n",
    "df['issue_date'] = pd.to_datetime(df['issue_date'])\n",
    "\n",
    "# Remove rows after 2021\n",
    "df = df[df['issue_date'] <= '2021-12-31']\n",
    "\n",
    "# Remove rows with NaN to protect CPU\n",
    "df2 = df.dropna()\n",
    "\n",
    "# Replacing invalid years with median\n",
    "\n",
    "df2['vehicle_year'] = df2.vehicle_year.astype('int64')\n",
    "df2.vehicle_year.loc[df2['vehicle_year'] == 0] = 2015\n",
    "df2.vehicle_year.loc[df2['vehicle_year'] >= 2023] = 2015"
   ]
  },
  {
   "cell_type": "code",
   "execution_count": 4,
   "id": "f5feda5a-1d52-4337-b5da-e9b0ee2dab99",
   "metadata": {},
   "outputs": [
    {
     "data": {
      "text/html": [
       "<div>\n",
       "<style scoped>\n",
       "    .dataframe tbody tr th:only-of-type {\n",
       "        vertical-align: middle;\n",
       "    }\n",
       "\n",
       "    .dataframe tbody tr th {\n",
       "        vertical-align: top;\n",
       "    }\n",
       "\n",
       "    .dataframe thead th {\n",
       "        text-align: right;\n",
       "    }\n",
       "</style>\n",
       "<table border=\"1\" class=\"dataframe\">\n",
       "  <thead>\n",
       "    <tr style=\"text-align: right;\">\n",
       "      <th></th>\n",
       "      <th>summons_number</th>\n",
       "      <th>registration_state</th>\n",
       "      <th>plate_type</th>\n",
       "      <th>violation_code</th>\n",
       "      <th>vehicle_body_type</th>\n",
       "      <th>vehicle_make</th>\n",
       "      <th>violation_precinct</th>\n",
       "      <th>issuer_code</th>\n",
       "      <th>violation_time</th>\n",
       "      <th>violation_county</th>\n",
       "      <th>house_number</th>\n",
       "      <th>street_name</th>\n",
       "      <th>vehicle_color</th>\n",
       "      <th>vehicle_year</th>\n",
       "    </tr>\n",
       "  </thead>\n",
       "  <tbody>\n",
       "    <tr>\n",
       "      <th>count</th>\n",
       "      <td>6581598</td>\n",
       "      <td>6581598</td>\n",
       "      <td>6581598</td>\n",
       "      <td>6581598</td>\n",
       "      <td>6581598</td>\n",
       "      <td>6581598</td>\n",
       "      <td>6581598</td>\n",
       "      <td>6581598</td>\n",
       "      <td>6581598</td>\n",
       "      <td>6581598</td>\n",
       "      <td>6581598</td>\n",
       "      <td>6581598</td>\n",
       "      <td>6581598</td>\n",
       "      <td>6581598</td>\n",
       "    </tr>\n",
       "    <tr>\n",
       "      <th>unique</th>\n",
       "      <td>6581598</td>\n",
       "      <td>58</td>\n",
       "      <td>79</td>\n",
       "      <td>95</td>\n",
       "      <td>642</td>\n",
       "      <td>1366</td>\n",
       "      <td>142</td>\n",
       "      <td>18639</td>\n",
       "      <td>1562</td>\n",
       "      <td>12</td>\n",
       "      <td>42026</td>\n",
       "      <td>23748</td>\n",
       "      <td>696</td>\n",
       "      <td>94</td>\n",
       "    </tr>\n",
       "    <tr>\n",
       "      <th>top</th>\n",
       "      <td>1471514882</td>\n",
       "      <td>NY</td>\n",
       "      <td>PAS</td>\n",
       "      <td>21</td>\n",
       "      <td>SUBN</td>\n",
       "      <td>FORD</td>\n",
       "      <td>19</td>\n",
       "      <td>362237</td>\n",
       "      <td>0836A</td>\n",
       "      <td>NY</td>\n",
       "      <td>N</td>\n",
       "      <td>Broadway</td>\n",
       "      <td>WH</td>\n",
       "      <td>2019</td>\n",
       "    </tr>\n",
       "    <tr>\n",
       "      <th>freq</th>\n",
       "      <td>1</td>\n",
       "      <td>6550778</td>\n",
       "      <td>4576755</td>\n",
       "      <td>1164056</td>\n",
       "      <td>2715963</td>\n",
       "      <td>798897</td>\n",
       "      <td>326170</td>\n",
       "      <td>11844</td>\n",
       "      <td>23351</td>\n",
       "      <td>2441574</td>\n",
       "      <td>290595</td>\n",
       "      <td>139656</td>\n",
       "      <td>1627996</td>\n",
       "      <td>735385</td>\n",
       "    </tr>\n",
       "  </tbody>\n",
       "</table>\n",
       "</div>"
      ],
      "text/plain": [
       "       summons_number registration_state plate_type violation_code  \\\n",
       "count         6581598            6581598    6581598        6581598   \n",
       "unique        6581598                 58         79             95   \n",
       "top        1471514882                 NY        PAS             21   \n",
       "freq                1            6550778    4576755        1164056   \n",
       "\n",
       "       vehicle_body_type vehicle_make violation_precinct issuer_code  \\\n",
       "count            6581598      6581598            6581598     6581598   \n",
       "unique               642         1366                142       18639   \n",
       "top                 SUBN         FORD                 19      362237   \n",
       "freq             2715963       798897             326170       11844   \n",
       "\n",
       "       violation_time violation_county house_number street_name vehicle_color  \\\n",
       "count         6581598          6581598      6581598     6581598       6581598   \n",
       "unique           1562               12        42026       23748           696   \n",
       "top             0836A               NY            N    Broadway            WH   \n",
       "freq            23351          2441574       290595      139656       1627996   \n",
       "\n",
       "       vehicle_year  \n",
       "count       6581598  \n",
       "unique           94  \n",
       "top            2019  \n",
       "freq         735385  "
      ]
     },
     "execution_count": 4,
     "metadata": {},
     "output_type": "execute_result"
    }
   ],
   "source": [
    "df2.describe(exclude=['datetime64[ns]'])"
   ]
  },
  {
   "cell_type": "code",
   "execution_count": 5,
   "id": "4c0d248a-8e13-47d7-b338-54c743495b19",
   "metadata": {},
   "outputs": [],
   "source": [
    "# Convert violation_precinct to int\n",
    "df2['violation_precinct'] = pd.to_numeric(df2.violation_precinct)\n",
    "\n",
    "#remove all rows with precinct > 123 (no such precincts exist in NYC)\n",
    "df2 = df2[df2['violation_precinct'].between(1, 123, inclusive='both')]"
   ]
  },
  {
   "cell_type": "code",
   "execution_count": 10,
   "id": "f0974133-1182-4f08-b0e4-1a7572ce0a85",
   "metadata": {},
   "outputs": [],
   "source": [
    "# Plate Types and State Codes using PDF: http://www.nyc.gov/html/dof/html/pdf/faq/stars_codes.pdf\n",
    "plates = 'C:\\\\Users\\\\sarzy\\\\Documents\\\\Jupyter-lab\\\\2022 Parking Violations\\\\platetypes.xlsx'\n",
    "states = 'C:\\\\Users\\\\sarzy\\\\Documents\\\\Jupyter-lab\\\\2022 Parking Violations\\\\territorycodes.xlsx'\n",
    "plate_df = pd.read_excel(plates, index_col=0)\n",
    "state_df = pd.read_excel(states, index_col=0)"
   ]
  },
  {
   "cell_type": "code",
   "execution_count": 11,
   "id": "a556693c-c411-4233-bee0-d7776a79e214",
   "metadata": {},
   "outputs": [],
   "source": [
    "dict1 = plate_df.to_dict()\n",
    "dict2 = state_df.to_dict()\n",
    "plate_dict = dict1['plate_types']\n",
    "state_dict = dict2['territory']"
   ]
  },
  {
   "cell_type": "code",
   "execution_count": 12,
   "id": "f1c475d8-7c94-4c0b-97fa-cf66efc82888",
   "metadata": {},
   "outputs": [],
   "source": [
    "df3 = df2.replace({'registration_state': state_dict})\n",
    "df3.replace({'plate_type': plate_dict}, inplace = True)"
   ]
  },
  {
   "cell_type": "code",
   "execution_count": 14,
   "id": "964d8567-989d-4b0e-a864-6ed1560bc0f8",
   "metadata": {},
   "outputs": [],
   "source": [
    "#Violation codes and fines from NYC Open Data\n",
    "vios = 'C:\\\\Users\\\\sarzy\\\\Documents\\\\Jupyter-lab\\\\2022 Parking Violations\\\\ParkingViolationCodes_January2020.xlsx'\n",
    "vio_df = pd.read_excel(vios)"
   ]
  },
  {
   "cell_type": "code",
   "execution_count": 15,
   "id": "be03db1e-c049-42cc-9edd-a7d10a1e4ef9",
   "metadata": {},
   "outputs": [],
   "source": [
    "#set as dictionary\n",
    "viocodes = vio_df[['violation_code', 'violation_description']].set_index('violation_code').to_dict()\n",
    "viofine = vio_df[['violation_description', 'fine_amount']].set_index('violation_description').to_dict()\n",
    "viocodes_dict = viocodes['violation_description']\n",
    "viofine_dict = viofine['fine_amount']"
   ]
  },
  {
   "cell_type": "code",
   "execution_count": 16,
   "id": "73dfa261-8f71-406b-83bd-b9c1aff56703",
   "metadata": {},
   "outputs": [],
   "source": [
    "df3['violation_code'] = pd.to_numeric(df3.violation_code)\n",
    "df3.replace({'violation_code':viocodes_dict}, inplace=True)"
   ]
  },
  {
   "cell_type": "code",
   "execution_count": 17,
   "id": "a363f3dc-ca3b-4ad1-80bc-60cb572b3e71",
   "metadata": {
    "tags": []
   },
   "outputs": [],
   "source": [
    "df3['violation'] = df3['violation_code']\n",
    "df3.replace({'violation_code':viofine_dict}, inplace=True)\n",
    "df3.rename(columns={'violation_code':'violation_fine'}, inplace=True)"
   ]
  },
  {
   "cell_type": "markdown",
   "id": "75728cf6-7f69-4ff0-936f-ec25c1d6b3bd",
   "metadata": {},
   "source": [
    "### Cleaning the Violation Time"
   ]
  },
  {
   "cell_type": "code",
   "execution_count": 18,
   "id": "cbdfb459-3032-4ebd-afc4-99e6163c3d8d",
   "metadata": {},
   "outputs": [],
   "source": [
    "import re\n",
    "#convert '0000P' to '0000 PM'\n",
    "times = df3.violation_time.tolist()\n",
    "time_formatted = []\n",
    "for time in times:\n",
    "    if re.search('.+P', time):\n",
    "        time_formatted.append(time.replace('P', ' PM'))\n",
    "    elif re.search('.+A', time):\n",
    "        time_formatted.append(time.replace('A', ' AM'))\n",
    "    else: ##I need to find these culprits##\n",
    "        time_formatted.append(time)"
   ]
  },
  {
   "cell_type": "code",
   "execution_count": 19,
   "id": "b34f9ed9-351a-4a07-b333-c6ac5607e8bd",
   "metadata": {},
   "outputs": [
    {
     "data": {
      "text/plain": [
       "['0854',\n",
       " '0625',\n",
       " '0420',\n",
       " '0450',\n",
       " '0450',\n",
       " '1235',\n",
       " '1116',\n",
       " '0910',\n",
       " '0207',\n",
       " '1052',\n",
       " '0609',\n",
       " '1234']"
      ]
     },
     "execution_count": 19,
     "metadata": {},
     "output_type": "execute_result"
    }
   ],
   "source": [
    "# Finding the culprits:\n",
    "\n",
    "culprits = []\n",
    "for suspect in time_formatted:\n",
    "    if not re.search(('.+A'), suspect):\n",
    "        if not re.search(('.+P'), suspect):\n",
    "            culprits.append(suspect)"
   ]
  },
  {
   "cell_type": "code",
   "execution_count": 20,
   "id": "15cff3ab-2f98-4b97-92dd-81d740a1266d",
   "metadata": {},
   "outputs": [],
   "source": [
    "# Adjusting time values in incorrect format:\n",
    "for culprit in culprits:\n",
    "    if culprit[0:2] <= '11':\n",
    "        time_formatted[time_formatted.index(culprit)] = (culprit + ' ' + 'AM')\n",
    "    else:\n",
    "        time_formatted[time_formatted.index(culprit)] = (culprit + ' ' + 'PM')\n",
    "\n",
    "time_formatted[time_formatted.index('110  AM')] = '1100 AM'\n",
    "time_formatted[time_formatted.index('040/ PM')] = '0400 PM'"
   ]
  },
  {
   "cell_type": "code",
   "execution_count": 21,
   "id": "2f3f7b92-290c-409f-a31d-63a94ada0c38",
   "metadata": {},
   "outputs": [
    {
     "name": "stdout",
     "output_type": "stream",
     "text": [
      "[]\n",
      "True\n"
     ]
    }
   ],
   "source": [
    "# Checking for potential formatting issues:\n",
    "wrong_length = []\n",
    "for time in time_formatted:\n",
    "    if len(time) != 7:\n",
    "        wrong_length.append(time)\n",
    "print(wrong_length)\n",
    "print((len(df3.violation_time)) == (len(time_formatted)))"
   ]
  },
  {
   "cell_type": "code",
   "execution_count": 22,
   "id": "6ee6d705-f7d8-4b2f-8246-b1ffa936ba62",
   "metadata": {},
   "outputs": [
    {
     "name": "stdout",
     "output_type": "stream",
     "text": [
      "[]\n"
     ]
    }
   ],
   "source": [
    "# Checking for minute values > 59\n",
    "wrong_minutes = []\n",
    "for time in time_formatted:\n",
    "    if time[2:4] >= '60':\n",
    "        wrong_minutes.append(time)\n",
    "print(wrong_minutes)"
   ]
  },
  {
   "cell_type": "markdown",
   "id": "7992e47b-528d-4e23-ad8b-a10822911b7d",
   "metadata": {},
   "source": [
    "##### Standardizing times to hours in 12H format, isolating values with H > 24, adding colon for style"
   ]
  },
  {
   "cell_type": "code",
   "execution_count": 23,
   "id": "45958986-680d-47ac-9376-9b04b8d11f88",
   "metadata": {},
   "outputs": [],
   "source": [
    "# Defining hour dictionary and empty lists\n",
    "time_dict = {'13':'01:', '14':'02:', '15':'03:', '16':'04:', '17':'05:', '18':'06:','19':'07:','20':'08:','21':'09:','22':'10:','23':'11:'}\n",
    "time_list = []\n",
    "times_over_24 = []\n",
    "\n",
    "for time in time_formatted:\n",
    "    if '00' <= time[0:2] <= '24':                                    # Time values within 00H - 24H range\n",
    "        if '01' <= time[0:2] <= '12':                                # Time values that have hours in 12H format (01 - 12)\n",
    "            time_list.append(time[0:2] + ':00' + time[4:])\n",
    "        elif '00' == time[0:2] or '24' == time[0:2]:                 # Midnight hours (00/24)\n",
    "            if re.search('.+AM', time):\n",
    "                time_list.append('12:00' + time[4:])\n",
    "            else:                                                    # PM values\n",
    "                time_list.append('12:00 ' + 'AM')\n",
    "        elif '13' <= time[0:2] <= '23':                              # Our data does not contain AM times with hour >12\n",
    "            for k,v in time_dict.items():                            # Iterate through keys, values in hour dictionary. colon already in values.\n",
    "                if k in time[0:2]:\n",
    "                    time_list.append(v + '00' + time[4:])                \n",
    "    else:                                                            # All times with hour > 24 (only PM exists in our data)\n",
    "        time_list.append(time[0:2] + ':00' + time[4:])\n",
    "        times_over_24.append(time[0:2] + ':00' + time[4:])"
   ]
  },
  {
   "cell_type": "code",
   "execution_count": 25,
   "id": "771378bd-8e9d-46bf-a954-0d1e43fb236e",
   "metadata": {},
   "outputs": [
    {
     "data": {
      "text/plain": [
       "[590501,\n",
       " 827495,\n",
       " 1781437,\n",
       " 2137759,\n",
       " 3120726,\n",
       " 4302504,\n",
       " 2137759,\n",
       " 4635214,\n",
       " 4892500,\n",
       " 5114379,\n",
       " 5172788,\n",
       " 5283162]"
      ]
     },
     "execution_count": 25,
     "metadata": {},
     "output_type": "execute_result"
    }
   ],
   "source": [
    "# Save indices of times over 24 for drop\n",
    "bad_time_index = []\n",
    "for time in times_over_24:\n",
    "    bad_time_index.append(time_list.index(time))"
   ]
  },
  {
   "cell_type": "code",
   "execution_count": 74,
   "id": "ff895a5b-23a4-4517-80a1-a6460815d665",
   "metadata": {},
   "outputs": [],
   "source": [
    "df3['violation_time'] = time_list\n",
    "df4 = df3.drop(df3.index[bad_time_index])"
   ]
  },
  {
   "cell_type": "code",
   "execution_count": 78,
   "id": "946174ce-8d4b-4365-a090-50c566347486",
   "metadata": {},
   "outputs": [
    {
     "data": {
      "text/html": [
       "<div>\n",
       "<style scoped>\n",
       "    .dataframe tbody tr th:only-of-type {\n",
       "        vertical-align: middle;\n",
       "    }\n",
       "\n",
       "    .dataframe tbody tr th {\n",
       "        vertical-align: top;\n",
       "    }\n",
       "\n",
       "    .dataframe thead th {\n",
       "        text-align: right;\n",
       "    }\n",
       "</style>\n",
       "<table border=\"1\" class=\"dataframe\">\n",
       "  <thead>\n",
       "    <tr style=\"text-align: right;\">\n",
       "      <th></th>\n",
       "      <th>summons_number</th>\n",
       "      <th>registration_state</th>\n",
       "      <th>plate_type</th>\n",
       "      <th>vehicle_body_type</th>\n",
       "      <th>vehicle_make</th>\n",
       "      <th>issuer_code</th>\n",
       "      <th>violation_time</th>\n",
       "      <th>violation_county</th>\n",
       "      <th>house_number</th>\n",
       "      <th>street_name</th>\n",
       "      <th>vehicle_color</th>\n",
       "      <th>vehicle_year</th>\n",
       "      <th>violation</th>\n",
       "    </tr>\n",
       "  </thead>\n",
       "  <tbody>\n",
       "    <tr>\n",
       "      <th>count</th>\n",
       "      <td>6578807</td>\n",
       "      <td>6578807</td>\n",
       "      <td>6578807</td>\n",
       "      <td>6578807</td>\n",
       "      <td>6578807</td>\n",
       "      <td>6578807</td>\n",
       "      <td>6578807</td>\n",
       "      <td>6578807</td>\n",
       "      <td>6578807</td>\n",
       "      <td>6578807</td>\n",
       "      <td>6578807</td>\n",
       "      <td>6578807</td>\n",
       "      <td>6578807</td>\n",
       "    </tr>\n",
       "    <tr>\n",
       "      <th>unique</th>\n",
       "      <td>6578807</td>\n",
       "      <td>58</td>\n",
       "      <td>79</td>\n",
       "      <td>636</td>\n",
       "      <td>1357</td>\n",
       "      <td>18477</td>\n",
       "      <td>25</td>\n",
       "      <td>11</td>\n",
       "      <td>42015</td>\n",
       "      <td>23652</td>\n",
       "      <td>691</td>\n",
       "      <td>94</td>\n",
       "      <td>95</td>\n",
       "    </tr>\n",
       "    <tr>\n",
       "      <th>top</th>\n",
       "      <td>1471514882</td>\n",
       "      <td>NEW YORK</td>\n",
       "      <td>Passenger</td>\n",
       "      <td>SUBN</td>\n",
       "      <td>FORD</td>\n",
       "      <td>362237</td>\n",
       "      <td>08:00 AM</td>\n",
       "      <td>NY</td>\n",
       "      <td>N</td>\n",
       "      <td>Broadway</td>\n",
       "      <td>WH</td>\n",
       "      <td>2019</td>\n",
       "      <td>NO PARKING-STREET CLEANING</td>\n",
       "    </tr>\n",
       "    <tr>\n",
       "      <th>freq</th>\n",
       "      <td>1</td>\n",
       "      <td>6548271</td>\n",
       "      <td>4575218</td>\n",
       "      <td>2715265</td>\n",
       "      <td>798583</td>\n",
       "      <td>11844</td>\n",
       "      <td>767168</td>\n",
       "      <td>2439911</td>\n",
       "      <td>290595</td>\n",
       "      <td>139656</td>\n",
       "      <td>1627379</td>\n",
       "      <td>735106</td>\n",
       "      <td>1163762</td>\n",
       "    </tr>\n",
       "  </tbody>\n",
       "</table>\n",
       "</div>"
      ],
      "text/plain": [
       "       summons_number registration_state plate_type vehicle_body_type  \\\n",
       "count         6578807            6578807    6578807           6578807   \n",
       "unique        6578807                 58         79               636   \n",
       "top        1471514882           NEW YORK  Passenger              SUBN   \n",
       "freq                1            6548271    4575218           2715265   \n",
       "\n",
       "       vehicle_make issuer_code violation_time violation_county house_number  \\\n",
       "count       6578807     6578807        6578807          6578807      6578807   \n",
       "unique         1357       18477             25               11        42015   \n",
       "top            FORD      362237       08:00 AM               NY            N   \n",
       "freq         798583       11844         767168          2439911       290595   \n",
       "\n",
       "       street_name vehicle_color vehicle_year                   violation  \n",
       "count      6578807       6578807      6578807                     6578807  \n",
       "unique       23652           691           94                          95  \n",
       "top       Broadway            WH         2019  NO PARKING-STREET CLEANING  \n",
       "freq        139656       1627379       735106                     1163762  "
      ]
     },
     "execution_count": 78,
     "metadata": {},
     "output_type": "execute_result"
    }
   ],
   "source": [
    "df4.describe(exclude=['datetime64[ns]', 'int64', 'float64'])"
   ]
  },
  {
   "cell_type": "markdown",
   "id": "e1cc8d34-3493-4b22-8548-3571e24b478a",
   "metadata": {},
   "source": [
    "### Replace body type NaN with mode per vehicle make"
   ]
  },
  {
   "cell_type": "code",
   "execution_count": 79,
   "id": "c5caec82-3d27-4ce5-879a-8e2e0d8c0315",
   "metadata": {},
   "outputs": [],
   "source": [
    "# Upper case\n",
    "df4['vehicle_make'] = df4.vehicle_make.str.upper()\n",
    "df4['vehicle_body_type'] = df4.vehicle_body_type.str.upper()"
   ]
  },
  {
   "cell_type": "code",
   "execution_count": 80,
   "id": "5915f679-1f92-42c9-ade2-92c5340b51d2",
   "metadata": {},
   "outputs": [],
   "source": [
    "# All missing body plate types are passenger (mode value)\n",
    "df_cars = df4[df4['plate_type'] == 'Passenger']\n",
    "df_cars = df_cars[['vehicle_make', 'vehicle_body_type']]\n",
    "\n",
    "# Find most frequent body types by vehicle make\n",
    "df_car_grp = df_cars.groupby(['vehicle_make', 'vehicle_body_type'], as_index = False).size()\n",
    "df_car_grp.sort_values(by=['size'], ascending = False, inplace = True)"
   ]
  },
  {
   "cell_type": "code",
   "execution_count": 81,
   "id": "bdffe0e8-a737-437d-94fc-358ea598bfb5",
   "metadata": {},
   "outputs": [],
   "source": [
    "# Drop duplicates and create dictionary to replace values\n",
    "df_car_grp.drop_duplicates(subset = 'vehicle_make', inplace = True)\n",
    "car_dict = df_car_grp[['vehicle_make', 'vehicle_body_type']].set_index('vehicle_make').head(20).to_dict()\n",
    "car_dict = car_dict['vehicle_body_type']"
   ]
  },
  {
   "cell_type": "code",
   "execution_count": 82,
   "id": "991386b4-76c2-41e9-92d2-c7e1d1759c0e",
   "metadata": {
    "tags": []
   },
   "outputs": [
    {
     "name": "stderr",
     "output_type": "stream",
     "text": [
      "C:\\Users\\sarzy\\AppData\\Local\\Temp\\ipykernel_11040\\1942308801.py:8: SettingWithCopyWarning: \n",
      "A value is trying to be set on a copy of a slice from a DataFrame\n",
      "\n",
      "See the caveats in the documentation: https://pandas.pydata.org/pandas-docs/stable/user_guide/indexing.html#returning-a-view-versus-a-copy\n",
      "  narows.drop(columns = 'vehicle_type', inplace = True)\n"
     ]
    }
   ],
   "source": [
    "# Create df with remaining NaN rows\n",
    "narows = df4[df4.isna().any(axis=1)]\n",
    "\n",
    "# Replace NaN values with corresponding vechicle make's mode body type \n",
    "narows['vehicle_type'] = narows['vehicle_make']\n",
    "narows.replace({'vehicle_type':car_dict}, inplace=True)\n",
    "narows['vehicle_body_type'] = narows['vehicle_type']\n",
    "narows.drop(columns = 'vehicle_type', inplace = True)"
   ]
  },
  {
   "cell_type": "code",
   "execution_count": 83,
   "id": "ff865d08-8150-45d0-89de-d7f9232ca624",
   "metadata": {},
   "outputs": [],
   "source": [
    "# Replace main df NaN rows by matching with temp df index\n",
    "df4.loc[narows.index, :] = narows[:]"
   ]
  },
  {
   "cell_type": "markdown",
   "id": "776e3297-da1a-41d4-b3f8-9bc98c9756a1",
   "metadata": {},
   "source": [
    "### Misc Data Standardization"
   ]
  },
  {
   "cell_type": "code",
   "execution_count": 84,
   "id": "7ca71d2a-0942-4e8e-89d1-01d90fdec70c",
   "metadata": {},
   "outputs": [],
   "source": [
    "# Remove issuer_code == '0'\n",
    "df4 = df4[df4['issuer_code'] != 0]"
   ]
  },
  {
   "cell_type": "code",
   "execution_count": 85,
   "id": "102fa3c8-2980-415a-8763-758569f4cba2",
   "metadata": {
    "tags": []
   },
   "outputs": [],
   "source": [
    "# Upper-casing\n",
    "df4 = df4.applymap(lambda x: x.upper() if type(x) == str else x)"
   ]
  },
  {
   "cell_type": "code",
   "execution_count": 86,
   "id": "29fee947-4ef1-4ea0-8f10-9cd98cf363cb",
   "metadata": {},
   "outputs": [],
   "source": [
    "# Precinct as int\n",
    "df4['violation_precinct'] = df4.violation_precinct.astype('int64')"
   ]
  },
  {
   "cell_type": "code",
   "execution_count": 87,
   "id": "5aa464bb-3454-4127-87a5-1dfa6f09b094",
   "metadata": {
    "tags": []
   },
   "outputs": [],
   "source": [
    "# Month column\n",
    "import datetime\n",
    "df4['month_year'] = pd.DatetimeIndex(df4['issue_date']).strftime('%b %Y').str.upper()"
   ]
  },
  {
   "cell_type": "markdown",
   "id": "d7a929e8-5d71-467e-8e7e-27b80b1805e5",
   "metadata": {},
   "source": [
    "### Standardizing Location Info"
   ]
  },
  {
   "cell_type": "code",
   "execution_count": 88,
   "id": "62c7a226-e891-428f-b301-fe714a77c777",
   "metadata": {},
   "outputs": [],
   "source": [
    "# Standardize violation county as borough name\n",
    "county_dict = {'NY': 'MANHATTAN', 'K': 'BROOKLYN', 'Q': 'QUEENS', 'BX': 'BRONX', 'R': 'STATEN ISLAND', \n",
    "               'KINGS':'BROOKLYN', 'QNS': 'QUEENS', 'F': 'QUEENS', 'RICH':'STATEN ISLAND'} #Based off address, F stands for Flushing, Queens\n",
    "df4.replace({'violation_county':county_dict}, inplace = True) "
   ]
  },
  {
   "cell_type": "code",
   "execution_count": 89,
   "id": "f4dfaa8d-066c-4772-a3a9-52be9b584ff6",
   "metadata": {},
   "outputs": [],
   "source": [
    "# Merge house_number and street_name into address\n",
    "# Consider using splchk_addr to spellcheck addresses. https://rdrr.io/github/gmculp/rNYCclean/man/splchk_addr.html\n",
    "df4['address'] = df4[['house_number', 'street_name', 'violation_county']].agg(' '.join, axis=1)"
   ]
  },
  {
   "cell_type": "markdown",
   "id": "a294d648-3319-4740-bf8a-830d2b35e594",
   "metadata": {},
   "source": [
    "### Standardizing Vehicle Color"
   ]
  },
  {
   "cell_type": "code",
   "execution_count": 90,
   "id": "d7d0724a-d8c7-40dc-8991-74abe8adf908",
   "metadata": {},
   "outputs": [],
   "source": [
    "# https://data.ny.gov/api/assets/83055271-29A6-4ED4-9374-E159F30DB5AE contains NYC color codes\n",
    "color_counts = df4.groupby('vehicle_color', as_index = False).size()\n",
    "color_counts.sort_values(by=['size'], ascending = False, inplace = True)"
   ]
  },
  {
   "cell_type": "code",
   "execution_count": 91,
   "id": "ff0458ed-bf14-40a3-b66c-f0566ae1c487",
   "metadata": {},
   "outputs": [],
   "source": [
    "# Color code dict derived from https://data.ny.gov/api/assets/83055271-29A6-4ED4-9374-E159F30DB5AE and manual interpretation of frequent misspellings \n",
    "color_dict = {\"BK\":\"BLACK\",\"BL\":\"BLUE\", \"BR\":\"BROWN\",\"GL\":\"YELLOW\",\"GY\":\"GRAY\",\"MR\":\"RED\",\"OR\":\"ORANGE\",\"PK\":\"PINK\",\"PR\":\"PURPLE\",\"RD\":\"RED\",\"TN\":\"BROWN\",\"WH\":\"WHITE\",\"YW\":\"YELLOW\",\"NOCL\":\"NO COLOR\",\n",
    "             \"GRY\":\"GRAY\",\"GRN\":\"GREEN\",\"BURG\":\"RED\",\"SIL\":\"GRAY\",\"WHT\":\"WHITE\",\"BLK\":\"BLACK\", \"GOLD\":\"YELLOW\",\"GLD\":\"YELLOW\",\"SILVER\":\"GRAY\",\"GREY\":\"GRAY\",\"BLU\":\"BLUE\",\"GRY\":\"GRAY\", \"GR\":\"GRAY\",\n",
    "             \"SILVE\":\"GRAY\",\"MAROON\":\"RED\",\"PURPL\":\"PURPLE\",\"YELLO\":\"YELLOW\",\"WHI\":\"WHITE\",\"WT\":\"WHITE\",\"ORANG\":\"ORANGE\",\"DKG\":\"GRAY\",\"GY\":\"GRAY\",\"GY/\":\"GRAY\",\"TAN\":\"BROWN\",\"W\":\"WHITE\",\"BRN\":\"BROWN\",\n",
    "              \"BRO\":\"BROWN\",\"SILV\":\"GRAY\",\"SLV\":\"GRAY\",\"WH/\":\"WHITE\",\"SL\":\"GRAY\",\"NO\":\"NO COLOR\",\"OTHER\":\"NO COLOR\",\"DKB\":\"BLUE\",\"LTB\":\"BLUE\",\"NOC\":\"NO COLOR\",\"WHB\":\"WHITE\",\"B\":\"BLACK\",\"LTG\":\"GRAY\",\n",
    "              \"LT/\":\"GRAY\",\"DK/\":\"BLACK\",\"GYB\":\"GRAY\",\"RD/\":\"RED\",\"BK/\":\"BLACK\",\"RDW\":\"RED\",\"WHG\":\"WHITE\",\"GN\":\"GREEN\",\"BLG\":\"BLACK\",\"GRW\":\"GRAY\",\"BL/\":\"BLUE\",\"G\":\"GRAY\",\"BLW\":\"BLACK\",\"LTT\":\"BROWN\",\n",
    "              \"BN\":\"BROWN\",\"BKG\":\"BLACK\",\"LAVEN\":\"PURPLE\",\"RDG\":\"RED\",\"MAROO\":\"RED\",\"WHTE\":\"WHITE\",\"LTGY\":\"GRAY\",\"OTH\":\"NO COLOR\",\"YELL\":\"YELLOW\",\"LT/GRY\":\"GRAY\",\"YEL\":\"YELLOW\",\"BW\":\"BROWN\",\"BRW\":\"BROWN\",\n",
    "             \"BEIGE\":\"BROWN\",\"BKW\":\"BLACK\",\"GD\":\"YELLOW\",\"DKR\":\"RED\",\"LT/GY\":\"GRAY\",'GR/':\"GRAY\",\"BLCK\":\"BLACK\",\"BLB\":\"BLUE\",\"SLVR\":\"GRAY\",\"MAR\":\"RED\",\"SV\":\"GRAY\",\"BRWN\":\"BROWN\",\"DK/GY\":\"GRAY\",\"R\":\"RED\",\n",
    "             \"BLA\":\"BLACK\",\"BLAK\":\"BLACK\",\"WHIT\":\"WHITE\",\"SILVR\":\"GRAY\",\"DKP\":\"PURPLE\",\"GRB\":\"GRAY\",\"DKGY\":\"GREEN\",\"GRG\":\"GREEN\",\"DKGY\":\"GRAY\",\"GRG\":\"GRAY\",\"BUR\":\"RED\",\"GYG\":\"GRAY\",\"DKM\":\"RED\",\"BURGU\":\"RED\",\n",
    "             \"BROW\":\"BROWN\",\"RDT\":\"RED\",\"WHO\":\"WHITE\",\"WTE\":\"WHITE\",\"SIV\":\"GRAY\",\"BLE\":\"BLUE\",\"BLAC\":\"BLACK\",\"PURP\":\"PURPLE\",\"BG\":\"BROWN\",\"ORG\":\"ORANGE\",\"GRE\":\"GREEN\",\"TNG\":\"BROWN\",\"DKBL\":\"BLUE\",\"PUR\":\"PURPLE\",\n",
    "             \"S\":\"GRAY\",\"BLN\":\"BLUE\",\"GRA\":\"GRAY\",\"Y\":\"YELLOW\",\"GRT\":\"GRAY\",\"BIEGE\":\"BROWN\",\"WHE\":\"WHITE\",\"BLT\":\"BLUE\",\"BKT\":\"BLACK\",\"GREN\":\"GREEN\",\"DK/RD\":\"RED\",\"ORA\":\"ORANGE\",\"TN/\":\"BROWN\",\"ORAN\":\"ORANGE\",\n",
    "             \"YE\":\"YELLOW\",\"LTBL\":\"BLUE\",\"BGE\":\"BROWN\",\"BRON\":\"BROWN\",\"YLW\":\"YELLOW\",\"TNR\":\"BROWN\",\"LTGR\":\"GRAY\",\"LTP\":\"PURPLE\",\"BWN\":\"BROWN\",\"DKRD\":\"RED\",\"DK/BL\":\"BLUE\",\"BL/GY\":\"BLUE\",\"LT/BL\":\"BLUE\",\n",
    "              \"YL\":\"YELLOW\", \"MULTI\":\"NO COLOR\",\"RUST\":\"BROWN\",\"PRB\":\"PURPLE\",\"BRT\":\"BROWN\",\"B L\":\"BLACK\",\"GYT\":\"GRAY\",\"LT/GR\":\"GRAY\",\"MARON\":\"RED\",\"GLB\":\"YELLOW\",\"DK/GR\":\"GRAY\",\"LT/TN\":\"BROWN\",\"BU\":\"BLUE\",\n",
    "             \"BURGA\":\"RED\",\"BKL\":\"BLACK\",\"SLVE\":\"GRAY\",\"NO CL\":\"NO COLOR\",\"BLWH\":\"BLACK\",\"MRG\":\"RED\",\"DKGR\":\"GRAY\",\"TEAL\":\"GREEN\",\"BY\":\"BLACK\",\"GEY\":\"GRAY\",\"BLRD\":\"BLUE\",\"SLR\":\"GRAY\",\"ORN\":\"ORANGE\",\"GT\":\"GRAY\",\n",
    "             \"O\":\"ORANGE\",\"GAY\":\"GRAY\",\"NLK\":\"BLACK\",\"GOL\":\"YELLOW\",\"GARY\":\"GRAY\",\"NAVY\":\"BLUE\",\"WJ\":\"WHITE\",\"RE\":\"RED\",\"BKJ\":\"BLACK\",\"BEI\":\"BROWN\",\"MA\":\"RED\",\"WHITW\":\"WHITE\",\"BLC\":\"BLACK\",\"SLVER\":\"GRAY\",\n",
    "             \"SLIVE\":\"GRAY\",\"BURGE\":\"RED\"}\n",
    "df4.replace({'vehicle_color':color_dict}, inplace = True) "
   ]
  },
  {
   "cell_type": "markdown",
   "id": "b9c59009-32ef-4082-96f3-762cace8272a",
   "metadata": {},
   "source": [
    "### Standardizing Vehicle Body Type"
   ]
  },
  {
   "cell_type": "code",
   "execution_count": 92,
   "id": "b7580948-a5f7-4914-89e0-d9c62bb87830",
   "metadata": {},
   "outputs": [],
   "source": [
    "# https://data.ny.gov/api/assets/83055271-29A6-4ED4-9374-E159F30DB5AE\n",
    "body_counts = df4.groupby('vehicle_body_type', as_index = False).size()\n",
    "body_counts.sort_values(by=['size'], ascending = False, inplace = True)"
   ]
  },
  {
   "cell_type": "code",
   "execution_count": 93,
   "id": "f2de4701-b234-4017-95f2-00dc33236c12",
   "metadata": {},
   "outputs": [],
   "source": [
    "body_dict = {\"FIRE\":\"FIRE TRUCK\",\"CONV\":\"CONVERTIBLE\",\"SEDN\":\"SEDAN\",\"SUBN\":\"SUV\",\"4DSD\":\"FOUR-DOOR SEDAN\",\"2DSD\":\"TWO-DOOR SEDAN\",\"H/WH\":\"HOUSE ON WHEELS\",\"ATV\":\"ALL TERRAIN VEHICLE\",\n",
    "             \"MCY\":\"MOTORCYCLE\",\"H/IN\":\"HEARSE\",\"LOCO\":\"LOCOMOTIVE\",\"CUST\":\"CUSTOM\",\"RPLC\":\"REPLICA\",\"AMBU\":\"AMBULANCE\",\"P/SH\":\"POWER SHOVEL\",\"RBM\":\"ROAD BUILDING MACHINE\",\"R/RD\":\"ROAD ROLLER\",\n",
    "             \"RD/S\":\"ROAD SWEEPER\",\"S/SP\":\"SAND SPRAYER\",\"SN/P\":\"SNOW PLOW\",\"TRAV\":\"SNOW TRAVELER\",\"MOBL\":\"SNOWMOBILE\",\"TR/E\":\"TRACTION ENGINE\",\"T/CR\":\"TRACTOR CRANE\",\"TR/C\":\"TRUCK CRANE\",\n",
    "             \"SWT\":\"TRUCK W/SMALL WHEELS\",\"W/DR\":\"WELL DRILLER\",\"W/SR\":\"WELL SERVICING RIG\",\"FPM\":\"FEED PROCESSING MACHINE\",\"MCC\":\"MOBILE CAR CRUSHER\",\"EMVR\":\"EARTH MOVER\",\"TRAC\":\"TRACTOR\",\n",
    "             \"N/A\":\"NOT APPLICABLE\",\"DELV\":\"DELIVERY TRUCK\",\"DUMP\":\"DUMP TRUCK\",\"FLAT\":\"FLAT BED TRUCK\",\"PICK\":\"PICK-UP TRUCK\",\"STAK\":\"STAKE TRUCK\",\"TANK\":\"TANK TRUCK\",\"REFG\":\"SEMI-TRAILER\",\n",
    "             \"TOW\":\"TOW TRUCK\",\"UTIL\":\"UTILITY\",\"POLE\":\"POLE TRAILER\",\"BOAT\":\"BOAT\",\"H/TR\":\"HOUSE TRAILER\",\"SEMI\":\"SEMI-TRAILER\",\"TRLR\":\"SEMI-TRAILER\",\"LTRL\":\"LIGHT TRAILER\",\n",
    "             \"LSVT\":\"LOW SPEED VEHICLE - TRUCK\",\"BUS\":\"BUS(OMNIBUS)\",\"LIM\":\"LIMOUSINE(OMNIBUS)\",\"HRSE\":\"HEARSE(AMBULANCE)\",\"TAXI\":\"TAXI\",\"DCOM\":\"DISABLED COMMERICAL\",\"CMIX\":\"CEMENT MIXER\",\n",
    "             \"MOPD\":\"MOPED\",\"MFH\":\"MANUFACTURED HOME\",\"SNOW\":\"SNOWMOBILE\",\"LSV\":\"LOW SPEED VEHICLE\",\"SDN\":\"SEDAN\",\"P-U\":\"PICK-UP TRUCK\",\"FOUR\":\"FOUR-DOOR SEDAN\",\"TRUC\":\"TRUCK\", \"TR\":\"TRUCK\",\n",
    "            \"TT\":\"SEMI-TRAILER\",\"TRAI\":\"SEMI-TRAILER\",\"MOT\":\"MOTORCYCLE\",\"MC\":\"MOTORCYCLE\",\"TRC\":\"SEMI-TRAILER\",\"TR\":\"SEMI-TRAILER\",\"REFR\":\"SEMI-TRAILER\",\"MOPE\":\"MOPED\",\"TRC\":\"TRUCK CRANE\",\"RF\":\"SEMI-TRAILER\",\n",
    "            \"TLR\":\"SEMI-TRAILER\",\"TRL\":\"SEMI-TRAILER\",\"TK\":\"TRUCK\",\"TRK\":\"TRUCK\",\"REFRIGERATOR TRAILER\":\"SEMI-TRAILER\", \"TL\":\"SEMI-TRAILER\",\"MOTO\":\"MOTORCYCLE\",\"HWH\":\"HOUSE ON WHEELS\",\n",
    "            \"CM\":\"CEMENT MIXER\",\"VAN TRUCK\":\"VAN\",\"SUBURBAN\":\"SUV\",\"RV\":\"HOUSE ON WHEELS\", \"HOUSE TRAILER\":\"HOUSE ON WHEELS\",\"JEEP\":\"SUV\",\"FREI\":\"SEMI-TRAILER\"}\n",
    "df4.replace({'vehicle_body_type':body_dict}, inplace = True) "
   ]
  },
  {
   "cell_type": "markdown",
   "id": "756c5881-3f35-49f0-9cf3-9b59cb73914a",
   "metadata": {
    "tags": []
   },
   "source": [
    "### Converting Manhattan violation fines to appropriate values"
   ]
  },
  {
   "cell_type": "code",
   "execution_count": 94,
   "id": "38f220f8-2bf5-4958-a65b-7a34d18a701b",
   "metadata": {},
   "outputs": [],
   "source": [
    "df5 = df4.copy()\n",
    "df5.violation_fine = df5.violation_fine.astype(str)"
   ]
  },
  {
   "cell_type": "code",
   "execution_count": 95,
   "id": "2f1c36a4-405e-4b62-80ea-bf966e10bdc9",
   "metadata": {
    "tags": []
   },
   "outputs": [],
   "source": [
    "# Will automate in future...\n",
    "df5.loc[(df5['violation_county'] == 'MANHATTAN') & (df5['violation'] == 'NO PARKING-DAY/TIME LIMITS'), 'violation_fine'] = df5.replace({'violation_fine':{'60.0':'65'}})\n",
    "df5.loc[(df5['violation_county'] == 'MANHATTAN') & (df5['violation'] == 'NO PARKING-STREET CLEANING'), 'violation_fine'] = df5.replace({'violation_fine':{'45.0':'65'}})\n",
    "df5.loc[(df5['violation_county'] == 'MANHATTAN') & (df5['violation'] == 'NO PARKING-TAXI STAND'), 'violation_fine'] = df5.replace({'violation_fine':{'60.0':'65'}})\n",
    "df5.loc[(df5['violation_county'] == 'MANHATTAN') & (df5['violation'] == 'NO PARKING-EXC. AUTH. VEHICLE'), 'violation_fine'] = df5.replace({'violation_fine':{'60.0':'65'}})\n",
    "df5.loc[(df5['violation_county'] == 'MANHATTAN') & (df5['violation'] == 'OT PARKING-MISSING/BROKEN METR'), 'violation_fine'] = df5.replace({'violation_fine':{'35.0':'65'}})\n",
    "df5.loc[(df5['violation_county'] == 'MANHATTAN') & (df5['violation'] == 'EXPIRED METER'), 'violation_fine'] = df5.replace({'violation_fine':{'35.0':'65'}})\n",
    "df5.loc[(df5['violation_county'] == 'MANHATTAN') & (df5['violation'] == 'SELLING/OFFERING MCHNDSE-METER'), 'violation_fine'] = df5.replace({'violation_fine':{'35.0':'65'}})\n",
    "df5.loc[(df5['violation_county'] == 'MANHATTAN') & (df5['violation'] == 'EXPIRED MUNI METER'), 'violation_fine'] = df5.replace({'violation_fine':{'35.0':'65'}})\n",
    "df5.loc[(df5['violation_county'] == 'MANHATTAN') & (df5['violation'] == 'FAIL TO DSPLY MUNI METER RECPT'), 'violation_fine'] = df5.replace({'violation_fine':{'35.0':'65'}})\n",
    "df5.loc[(df5['violation_county'] == 'MANHATTAN') & (df5['violation'] == 'OVERTIME PKG-TIME LIMIT POSTED'), 'violation_fine'] = df5.replace({'violation_fine':{'60.0':'65'}})\n",
    "df5.loc[(df5['violation_county'] == 'MANHATTAN') & (df5['violation'] == 'EXPIRED MUNI MTR-COMM MTR ZN'), 'violation_fine'] = df5.replace({'violation_fine':{'35.0':'65'}})\n",
    "df5.loc[(df5['violation_county'] == 'MANHATTAN') & (df5['violation'] == 'EXPIRED METER-COMM METER ZONE'), 'violation_fine'] = df5.replace({'violation_fine':{'35.0':'65'}})\n",
    "df5.loc[(df5['violation_county'] == 'MANHATTAN') & (df5['violation'] == 'PKG IN EXC. OF LIM-COMM MTR ZN'), 'violation_fine'] = df5.replace({'violation_fine':{'35.0':'65'}})\n",
    "df5.loc[(df5['violation_county'] == 'MANHATTAN') & (df5['violation'] == 'MARGINAL STREET/WATER FRONT'), 'violation_fine'] = df5.replace({'violation_fine':{'45.0':'65'}})\n",
    "df5.loc[(df5['violation_county'] == 'MANHATTAN') & (df5['violation'] == 'ANGLE PARKING'), 'violation_fine'] = df5.replace({'violation_fine':{'45.0':'65'}})\n",
    "df5.loc[(df5['violation_county'] == 'MANHATTAN') & (df5['violation'] == 'WRONG WAY'), 'violation_fine'] = df5.replace({'violation_fine':{'45.0':'65'}})\n",
    "df5.loc[(df5['violation_county'] == 'MANHATTAN') & (df5['violation'] == 'BEYOND MARKED SPACE'), 'violation_fine'] = df5.replace({'violation_fine':{'45.0':'65'}})\n",
    "df5.loc[(df5['violation_county'] == 'MANHATTAN') & (df5['violation'] == 'DETACHED TRAILER'), 'violation_fine'] = df5.replace({'violation_fine':{'45.0':'65'}})\n",
    "df5.loc[(df5['violation_county'] == 'MANHATTAN') & (df5['violation'] == 'NON-COMPLIANCE W/ POSTED SIGN'), 'violation_fine'] = df5.replace({'violation_fine':{'60.0':'65'}})\n",
    "df5.loc[(df5['violation_county'] == 'MANHATTAN') & (df5['violation'] == 'FAIL TO DISP. MUNI METER RECPT'), 'violation_fine'] = df5.replace({'violation_fine':{'35.0':'65'}})\n",
    "df5.loc[(df5['violation_county'] == 'MANHATTAN') & (df5['violation'] == 'PARKED BUS-EXC. DESIG. AREA'), 'violation_fine'] = df5.replace({'violation_fine':{'45.0':'65'}})\n",
    "df5.loc[(df5['violation_county'] == 'MANHATTAN') & (df5['violation'] == 'MISSING EQUIPMENT'), 'violation_fine'] = df5.replace({'violation_fine':{'45.0':'60'}})\n",
    "df5.loc[(df5['violation_county'] == 'MANHATTAN') & (df5['violation'] == 'PLTFRM LFTS LWRD POS COMM VEH'), 'violation_fine'] = df5.replace({'violation_fine':{'45.0':'65'}})\n",
    "df5.loc[(df5['violation_county'] == 'MANHATTAN') & (df5['violation'] == 'VEH-SALE/WSHNG/RPRNG/DRIVEWAY'), 'violation_fine'] = df5.replace({'violation_fine':{'25.0':'40'}})\n",
    "df5.loc[(df5['violation_county'] == 'MANHATTAN') & (df5['violation'] == 'VEHICLE FOR SALE(DEALERS ONLY)'), 'violation_fine'] = df5.replace({'violation_fine':{'45.0':'65'}})\n",
    "df5.loc[(df5['violation_county'] == 'MANHATTAN') & (df5['violation'] == 'WASH/REPAIR VEHCL-REPAIR ONLY'), 'violation_fine'] = df5.replace({'violation_fine':{'45.0':'65'}})\n",
    "df5.loc[(df5['violation_county'] == 'MANHATTAN') & (df5['violation'] == 'VACANT LOT'), 'violation_fine'] = df5.replace({'violation_fine':{'60.0':'65'}})"
   ]
  },
  {
   "cell_type": "code",
   "execution_count": 97,
   "id": "977da142-58d8-49b0-ae6b-cf005d560048",
   "metadata": {
    "tags": []
   },
   "outputs": [],
   "source": [
    "df5['violation_fine'] = df5.violation_fine.astype('float64')"
   ]
  },
  {
   "cell_type": "code",
   "execution_count": 98,
   "id": "b98c2a4d-772c-440b-a745-d4ccd3716332",
   "metadata": {
    "tags": []
   },
   "outputs": [
    {
     "data": {
      "text/html": [
       "<div>\n",
       "<style scoped>\n",
       "    .dataframe tbody tr th:only-of-type {\n",
       "        vertical-align: middle;\n",
       "    }\n",
       "\n",
       "    .dataframe tbody tr th {\n",
       "        vertical-align: top;\n",
       "    }\n",
       "\n",
       "    .dataframe thead th {\n",
       "        text-align: right;\n",
       "    }\n",
       "</style>\n",
       "<table border=\"1\" class=\"dataframe\">\n",
       "  <thead>\n",
       "    <tr style=\"text-align: right;\">\n",
       "      <th></th>\n",
       "      <th>summons_number</th>\n",
       "      <th>registration_state</th>\n",
       "      <th>plate_type</th>\n",
       "      <th>issue_date</th>\n",
       "      <th>violation_fine</th>\n",
       "      <th>vehicle_body_type</th>\n",
       "      <th>vehicle_make</th>\n",
       "      <th>violation_precinct</th>\n",
       "      <th>issuer_code</th>\n",
       "      <th>violation_time</th>\n",
       "      <th>violation_county</th>\n",
       "      <th>house_number</th>\n",
       "      <th>street_name</th>\n",
       "      <th>vehicle_color</th>\n",
       "      <th>vehicle_year</th>\n",
       "      <th>violation</th>\n",
       "      <th>month_year</th>\n",
       "      <th>address</th>\n",
       "    </tr>\n",
       "  </thead>\n",
       "  <tbody>\n",
       "    <tr>\n",
       "      <th>0</th>\n",
       "      <td>1471514882</td>\n",
       "      <td>NEW YORK</td>\n",
       "      <td>PASSENGER</td>\n",
       "      <td>2020-07-01</td>\n",
       "      <td>95.0</td>\n",
       "      <td>SUBURBAN</td>\n",
       "      <td>FORD</td>\n",
       "      <td>102</td>\n",
       "      <td>949909</td>\n",
       "      <td>12:00 PM</td>\n",
       "      <td>QUEENS</td>\n",
       "      <td>81-02</td>\n",
       "      <td>ROCKAWAY BLVD</td>\n",
       "      <td>WHITE</td>\n",
       "      <td>1998</td>\n",
       "      <td>OBSTRUCTING DRIVEWAY</td>\n",
       "      <td>JUL 2020</td>\n",
       "      <td>81-02 ROCKAWAY BLVD QUEENS</td>\n",
       "    </tr>\n",
       "    <tr>\n",
       "      <th>1</th>\n",
       "      <td>1471514894</td>\n",
       "      <td>NEW YORK</td>\n",
       "      <td>PASSENGER</td>\n",
       "      <td>2020-07-01</td>\n",
       "      <td>95.0</td>\n",
       "      <td>SUBURBAN</td>\n",
       "      <td>NISSA</td>\n",
       "      <td>102</td>\n",
       "      <td>949969</td>\n",
       "      <td>01:00 PM</td>\n",
       "      <td>QUEENS</td>\n",
       "      <td>87-34</td>\n",
       "      <td>132 ST</td>\n",
       "      <td>RED</td>\n",
       "      <td>2018</td>\n",
       "      <td>OBSTRUCTING DRIVEWAY</td>\n",
       "      <td>JUL 2020</td>\n",
       "      <td>87-34 132 ST QUEENS</td>\n",
       "    </tr>\n",
       "    <tr>\n",
       "      <th>2</th>\n",
       "      <td>1471514900</td>\n",
       "      <td>NEW YORK</td>\n",
       "      <td>PASSENGER</td>\n",
       "      <td>2020-07-01</td>\n",
       "      <td>95.0</td>\n",
       "      <td>SUBURBAN</td>\n",
       "      <td>INFIN</td>\n",
       "      <td>102</td>\n",
       "      <td>949969</td>\n",
       "      <td>02:00 PM</td>\n",
       "      <td>QUEENS</td>\n",
       "      <td>87-45</td>\n",
       "      <td>112 ST</td>\n",
       "      <td>BLACK</td>\n",
       "      <td>2004</td>\n",
       "      <td>OBSTRUCTING DRIVEWAY</td>\n",
       "      <td>JUL 2020</td>\n",
       "      <td>87-45 112 ST QUEENS</td>\n",
       "    </tr>\n",
       "    <tr>\n",
       "      <th>3</th>\n",
       "      <td>1473991845</td>\n",
       "      <td>NEW YORK</td>\n",
       "      <td>PASSENGER</td>\n",
       "      <td>2020-07-01</td>\n",
       "      <td>115.0</td>\n",
       "      <td>SUBURBAN</td>\n",
       "      <td>INFIN</td>\n",
       "      <td>40</td>\n",
       "      <td>952829</td>\n",
       "      <td>04:00 PM</td>\n",
       "      <td>BRONX</td>\n",
       "      <td>418</td>\n",
       "      <td>E 138 ST</td>\n",
       "      <td>BLACK</td>\n",
       "      <td>2008</td>\n",
       "      <td>BIKE LANE</td>\n",
       "      <td>JUL 2020</td>\n",
       "      <td>418 E 138 ST BRONX</td>\n",
       "    </tr>\n",
       "    <tr>\n",
       "      <th>4</th>\n",
       "      <td>1473991857</td>\n",
       "      <td>NEW YORK</td>\n",
       "      <td>PASSENGER</td>\n",
       "      <td>2020-07-01</td>\n",
       "      <td>115.0</td>\n",
       "      <td>SUBURBAN</td>\n",
       "      <td>HYUN</td>\n",
       "      <td>40</td>\n",
       "      <td>952829</td>\n",
       "      <td>04:00 PM</td>\n",
       "      <td>BRONX</td>\n",
       "      <td>416</td>\n",
       "      <td>E 138 ST</td>\n",
       "      <td>WHITE</td>\n",
       "      <td>2012</td>\n",
       "      <td>BIKE LANE</td>\n",
       "      <td>JUL 2020</td>\n",
       "      <td>416 E 138 ST BRONX</td>\n",
       "    </tr>\n",
       "  </tbody>\n",
       "</table>\n",
       "</div>"
      ],
      "text/plain": [
       "  summons_number registration_state plate_type issue_date  violation_fine  \\\n",
       "0     1471514882           NEW YORK  PASSENGER 2020-07-01            95.0   \n",
       "1     1471514894           NEW YORK  PASSENGER 2020-07-01            95.0   \n",
       "2     1471514900           NEW YORK  PASSENGER 2020-07-01            95.0   \n",
       "3     1473991845           NEW YORK  PASSENGER 2020-07-01           115.0   \n",
       "4     1473991857           NEW YORK  PASSENGER 2020-07-01           115.0   \n",
       "\n",
       "  vehicle_body_type vehicle_make  violation_precinct issuer_code  \\\n",
       "0          SUBURBAN         FORD                 102      949909   \n",
       "1          SUBURBAN        NISSA                 102      949969   \n",
       "2          SUBURBAN        INFIN                 102      949969   \n",
       "3          SUBURBAN        INFIN                  40      952829   \n",
       "4          SUBURBAN         HYUN                  40      952829   \n",
       "\n",
       "  violation_time violation_county house_number    street_name vehicle_color  \\\n",
       "0       12:00 PM           QUEENS        81-02  ROCKAWAY BLVD         WHITE   \n",
       "1       01:00 PM           QUEENS        87-34         132 ST           RED   \n",
       "2       02:00 PM           QUEENS        87-45         112 ST         BLACK   \n",
       "3       04:00 PM            BRONX          418       E 138 ST         BLACK   \n",
       "4       04:00 PM            BRONX          416       E 138 ST         WHITE   \n",
       "\n",
       "   vehicle_year             violation month_year                     address  \n",
       "0          1998  OBSTRUCTING DRIVEWAY   JUL 2020  81-02 ROCKAWAY BLVD QUEENS  \n",
       "1          2018  OBSTRUCTING DRIVEWAY   JUL 2020         87-34 132 ST QUEENS  \n",
       "2          2004  OBSTRUCTING DRIVEWAY   JUL 2020         87-45 112 ST QUEENS  \n",
       "3          2008             BIKE LANE   JUL 2020          418 E 138 ST BRONX  \n",
       "4          2012             BIKE LANE   JUL 2020          416 E 138 ST BRONX  "
      ]
     },
     "execution_count": 98,
     "metadata": {},
     "output_type": "execute_result"
    }
   ],
   "source": [
    "df5.head()"
   ]
  },
  {
   "cell_type": "code",
   "execution_count": 114,
   "id": "b1d14fec-a4e2-416c-8f0a-46a7fc582e64",
   "metadata": {},
   "outputs": [],
   "source": [
    "# Removing values after June 2021\n",
    "df5 = df5.loc[(df5['month_year'] != 'JUL 2021') & (df5['month_year'] != 'AUG 2021') & (df5['month_year'] != 'SEP 2021') & (df5['month_year'] != 'OCT 2021') & \n",
    "              (df5['month_year'] != 'NOV 2021') & (df5['month_year'] != 'DEC 2021')]"
   ]
  },
  {
   "cell_type": "code",
   "execution_count": 115,
   "id": "1128f89f-3149-4e3e-b679-71f33180da68",
   "metadata": {},
   "outputs": [],
   "source": [
    "df5.to_csv('C:\\\\Users\\\\sarzy\\\\Documents\\\\Jupyter-lab\\\\2022 Parking Violations\\\\2021_parking_violations_cleaned_all_final.csv', index = False)"
   ]
  },
  {
   "cell_type": "code",
   "execution_count": 112,
   "id": "1cb111c7-7845-4406-9fb9-18ea685f8a4d",
   "metadata": {},
   "outputs": [
    {
     "name": "stdout",
     "output_type": "stream",
     "text": [
      "<class 'pandas.core.frame.DataFrame'>\n",
      "Int64Index: 6578637 entries, 0 to 14700681\n",
      "Data columns (total 18 columns):\n",
      " #   Column              Dtype         \n",
      "---  ------              -----         \n",
      " 0   summons_number      object        \n",
      " 1   registration_state  object        \n",
      " 2   plate_type          object        \n",
      " 3   issue_date          datetime64[ns]\n",
      " 4   violation_fine      float64       \n",
      " 5   vehicle_body_type   object        \n",
      " 6   vehicle_make        object        \n",
      " 7   violation_precinct  int64         \n",
      " 8   issuer_code         object        \n",
      " 9   violation_time      object        \n",
      " 10  violation_county    object        \n",
      " 11  house_number        object        \n",
      " 12  street_name         object        \n",
      " 13  vehicle_color       object        \n",
      " 14  vehicle_year        int64         \n",
      " 15  violation           object        \n",
      " 16  month_year          object        \n",
      " 17  address             object        \n",
      "dtypes: datetime64[ns](1), float64(1), int64(2), object(14)\n",
      "memory usage: 953.6+ MB\n"
     ]
    }
   ],
   "source": [
    "df5.info()"
   ]
  }
 ],
 "metadata": {
  "kernelspec": {
   "display_name": "Python 3 (ipykernel)",
   "language": "python",
   "name": "python3"
  },
  "language_info": {
   "codemirror_mode": {
    "name": "ipython",
    "version": 3
   },
   "file_extension": ".py",
   "mimetype": "text/x-python",
   "name": "python",
   "nbconvert_exporter": "python",
   "pygments_lexer": "ipython3",
   "version": "3.10.4"
  }
 },
 "nbformat": 4,
 "nbformat_minor": 5
}
