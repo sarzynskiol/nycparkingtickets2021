{
 "cells": [
  {
   "cell_type": "markdown",
   "id": "592ae2db-abce-4be6-aa5a-fd40b8d73cab",
   "metadata": {},
   "source": [
    "# Cleaning the 2021 NYC Parking Violation Dataset"
   ]
  },
  {
   "cell_type": "markdown",
   "id": "6c4e4757-3241-41e6-8d54-835e77bcd871",
   "metadata": {},
   "source": [
    "Disclaimer: I am currently working on optimizing this code and clarifying the steps taken to arrive at a cleaned dataset. \n",
    "<br>The section converting Manhattan ticket fine values in particular should be automated.\n",
    "\n",
    "This is the beginning of my very first independent project after completing IBM's Professional Data Analyst Specialization at the end of March, 2022.\n",
    "\n",
    "<p>Roughly 15 million violations were issued by NYC in fiscal year 2021 (July 2020 - June 2021). Our final cleaned dataset is composed of about 6.6 million rows.\n",
    "<br>Unfortunately, many data entries containing null or 'intranslatable' values (i.e. violation time of '45:21 PM') were removed, primarily due to the limitations of my PC.\n",
    "<br>Efforts were made to preserve as much data as possible after initial nan drop by replacing with median/mode/manually input spell-check key:value pairs.</p>\n",
    "\n",
    "The main dataset was obtained from <a href=\"https://data.cityofnewyork.us/City-Government/Parking-Violations-Issued-Fiscal-Year-2021/kvfd-bves\">NYC OpenData</a> using the Socrata OpenData API.\n",
    "\n",
    "Violation and vehicle codes were converted to full text descriptions using information 'scraped' from official nyc.gov documentation. Identical values written in numerous different ways were standardized when able. \n",
    "\n",
    "Below you may find my cleaning process:"
   ]
  },
  {
   "cell_type": "code",
   "execution_count": 1,
   "id": "d46b27f0-d55b-4aa9-abef-af8452f00d40",
   "metadata": {},
   "outputs": [],
   "source": [
    "import pandas as pd\n",
    "import matplotlib.pyplot as plt\n",
    "import seaborn as sns\n",
    "import numpy as np\n",
    "from scipy import stats\n",
    "from datetime import datetime as dt\n",
    "from sodapy import Socrata"
   ]
  },
  {
   "cell_type": "markdown",
   "id": "b769a29a-9fb6-4ee1-8b32-cbfb4f9833ae",
   "metadata": {
    "tags": []
   },
   "source": [
    "#### Importing dataset using Socrata API"
   ]
  },
  {
   "cell_type": "code",
   "execution_count": null,
   "id": "407f50ee-eb95-4ec1-a292-6df03be9db8c",
   "metadata": {
    "tags": []
   },
   "outputs": [],
   "source": [
    "# Ordered by date ascending 2021 fiscal year begins on row \\254353 and ends on row \\14955034\n",
    "data_url = 'data.cityofnewyork.us'\n",
    "data_set = 'kvfd-bves'\n",
    "app_token = 'XXXXXXXXXXXXXXXXXXXXXXXXXXXXX'\n",
    "client = Socrata(data_url, app_token)\n",
    "client.timeout = 90\n",
    "start = 254353\n",
    "chunk_size = 50000\n",
    "end = 14955034\n",
    "results = []\n",
    "while True:\n",
    "     #records starting at 'start'\n",
    "     results.extend( client.get(data_set, \n",
    "                     select=\"\"\"\n",
    "                     summons_number, registration_state, plate_type, issue_date, violation_code, vehicle_body_type, \n",
    "                     vehicle_make, violation_precinct, issuer_code, violation_time, violation_county, house_number, \n",
    "                     street_name, vehicle_color, vehicle_year\"\"\",\n",
    "                     order='issue_date',\n",
    "                     offset=start,\n",
    "                     limit=chunk_size))\n",
    "     start = start + chunk_size\n",
    "     if (start > end):\n",
    "        break\n",
    "df = pd.DataFrame.from_records(results)"
   ]
  },
  {
   "cell_type": "markdown",
   "id": "e9a43aec-96ee-40c8-8483-132c5a5df0a5",
   "metadata": {},
   "source": [
    "#### Cleaning/Pruning"
   ]
  },
  {
   "cell_type": "code",
   "execution_count": null,
   "id": "fd0fbba5-1949-48ba-9587-443398e4604d",
   "metadata": {
    "tags": []
   },
   "outputs": [],
   "source": [
    "# Convert to datetime\n",
    "df['issue_date'] = pd.to_datetime(df['issue_date'])\n",
    "\n",
    "# Remove rows after 2021\n",
    "df = df[df['issue_date'] <= '2021-12-31']\n",
    "\n",
    "# Remove rows with NaN to protect CPU\n",
    "df2 = df.dropna()\n",
    "\n",
    "# Replacing invalid years with median\n",
    "\n",
    "df2['vehicle_year'] = df2.vehicle_year.astype('int64')\n",
    "df2.vehicle_year.loc[df2['vehicle_year'] == 0] = 2015\n",
    "df2.vehicle_year.loc[df2['vehicle_year'] >= 2023] = 2015"
   ]
  },
  {
   "cell_type": "code",
   "execution_count": null,
   "id": "f5feda5a-1d52-4337-b5da-e9b0ee2dab99",
   "metadata": {},
   "outputs": [],
   "source": [
    "df2.describe(exclude=['datetime64[ns]'])"
   ]
  },
  {
   "cell_type": "code",
   "execution_count": null,
   "id": "4c0d248a-8e13-47d7-b338-54c743495b19",
   "metadata": {},
   "outputs": [],
   "source": [
    "# Convert violation_precinct to int\n",
    "df2['violation_precinct'] = pd.to_numeric(df2.violation_precinct)\n",
    "\n",
    "#remove all rows with precinct > 123 (no such precincts exist in NYC)\n",
    "df2 = df2[df2['violation_precinct'].between(1, 123, inclusive='both')]"
   ]
  },
  {
   "cell_type": "code",
   "execution_count": null,
   "id": "f0974133-1182-4f08-b0e4-1a7572ce0a85",
   "metadata": {},
   "outputs": [],
   "source": [
    "# Plate Types and State Codes using PDF: http://www.nyc.gov/html/dof/html/pdf/faq/stars_codes.pdf\n",
    "plates = 'C:\\\\Users\\\\sarzy\\\\Documents\\\\Jupyter-lab\\\\2022 Parking Violations\\\\platetypes.xlsx'\n",
    "states = 'C:\\\\Users\\\\sarzy\\\\Documents\\\\Jupyter-lab\\\\2022 Parking Violations\\\\territorycodes.xlsx'\n",
    "plate_df = pd.read_excel(plates, index_col=0)\n",
    "state_df = pd.read_excel(states, index_col=0)"
   ]
  },
  {
   "cell_type": "code",
   "execution_count": null,
   "id": "a556693c-c411-4233-bee0-d7776a79e214",
   "metadata": {},
   "outputs": [],
   "source": [
    "dict1 = plate_df.to_dict()\n",
    "dict2 = state_df.to_dict()\n",
    "plate_dict = dict1['plate_types']\n",
    "state_dict = dict2['territory']"
   ]
  },
  {
   "cell_type": "code",
   "execution_count": null,
   "id": "f1c475d8-7c94-4c0b-97fa-cf66efc82888",
   "metadata": {},
   "outputs": [],
   "source": [
    "df3 = df2.replace({'registration_state': state_dict})\n",
    "df3.replace({'plate_type': plate_dict}, inplace = True)"
   ]
  },
  {
   "cell_type": "code",
   "execution_count": null,
   "id": "964d8567-989d-4b0e-a864-6ed1560bc0f8",
   "metadata": {},
   "outputs": [],
   "source": [
    "#Violation codes and fines from NYC Open Data\n",
    "vios = 'C:\\\\Users\\\\sarzy\\\\Documents\\\\Jupyter-lab\\\\2022 Parking Violations\\\\ParkingViolationCodes_January2020.xlsx'\n",
    "vio_df = pd.read_excel(vios)"
   ]
  },
  {
   "cell_type": "code",
   "execution_count": null,
   "id": "be03db1e-c049-42cc-9edd-a7d10a1e4ef9",
   "metadata": {},
   "outputs": [],
   "source": [
    "#set as dictionary\n",
    "viocodes = vio_df[['violation_code', 'violation_description']].set_index('violation_code').to_dict()\n",
    "viofine = vio_df[['violation_description', 'fine_amount']].set_index('violation_description').to_dict()\n",
    "viocodes_dict = viocodes['violation_description']\n",
    "viofine_dict = viofine['fine_amount']"
   ]
  },
  {
   "cell_type": "code",
   "execution_count": null,
   "id": "73dfa261-8f71-406b-83bd-b9c1aff56703",
   "metadata": {},
   "outputs": [],
   "source": [
    "df3['violation_code'] = pd.to_numeric(df3.violation_code)\n",
    "df3.replace({'violation_code':viocodes_dict}, inplace=True)"
   ]
  },
  {
   "cell_type": "code",
   "execution_count": null,
   "id": "a363f3dc-ca3b-4ad1-80bc-60cb572b3e71",
   "metadata": {
    "tags": []
   },
   "outputs": [],
   "source": [
    "df3['violation'] = df3['violation_code']\n",
    "df3.replace({'violation_code':viofine_dict}, inplace=True)\n",
    "df3.rename(columns={'violation_code':'violation_fine'}, inplace=True)"
   ]
  },
  {
   "cell_type": "markdown",
   "id": "75728cf6-7f69-4ff0-936f-ec25c1d6b3bd",
   "metadata": {},
   "source": [
    "### Cleaning the Violation Time"
   ]
  },
  {
   "cell_type": "code",
   "execution_count": null,
   "id": "cbdfb459-3032-4ebd-afc4-99e6163c3d8d",
   "metadata": {},
   "outputs": [],
   "source": [
    "import re\n",
    "#convert '0000P' to '0000 PM'\n",
    "times = df3.violation_time.tolist()\n",
    "time_formatted = []\n",
    "for time in times:\n",
    "    if re.search('.+P', time):\n",
    "        time_formatted.append(time.replace('P', ' PM'))\n",
    "    elif re.search('.+A', time):\n",
    "        time_formatted.append(time.replace('A', ' AM'))\n",
    "    else: ##I need to find these culprits##\n",
    "        time_formatted.append(time)"
   ]
  },
  {
   "cell_type": "code",
   "execution_count": null,
   "id": "b34f9ed9-351a-4a07-b333-c6ac5607e8bd",
   "metadata": {},
   "outputs": [],
   "source": [
    "# Finding the culprits:\n",
    "\n",
    "culprits = []\n",
    "for suspect in time_formatted:\n",
    "    if not re.search(('.+A'), suspect):\n",
    "        if not re.search(('.+P'), suspect):\n",
    "            culprits.append(suspect)"
   ]
  },
  {
   "cell_type": "code",
   "execution_count": null,
   "id": "15cff3ab-2f98-4b97-92dd-81d740a1266d",
   "metadata": {},
   "outputs": [],
   "source": [
    "# Adjusting time values in incorrect format:\n",
    "for culprit in culprits:\n",
    "    if culprit[0:2] <= '11':\n",
    "        time_formatted[time_formatted.index(culprit)] = (culprit + ' ' + 'AM')\n",
    "    else:\n",
    "        time_formatted[time_formatted.index(culprit)] = (culprit + ' ' + 'PM')\n",
    "\n",
    "time_formatted[time_formatted.index('110  AM')] = '1100 AM'\n",
    "time_formatted[time_formatted.index('040/ PM')] = '0400 PM'"
   ]
  },
  {
   "cell_type": "code",
   "execution_count": null,
   "id": "2f3f7b92-290c-409f-a31d-63a94ada0c38",
   "metadata": {},
   "outputs": [],
   "source": [
    "# Checking for potential formatting issues:\n",
    "wrong_length = []\n",
    "for time in time_formatted:\n",
    "    if len(time) != 7:\n",
    "        wrong_length.append(time)\n",
    "print(wrong_length)\n",
    "print((len(df3.violation_time)) == (len(time_formatted)))"
   ]
  },
  {
   "cell_type": "code",
   "execution_count": null,
   "id": "6ee6d705-f7d8-4b2f-8246-b1ffa936ba62",
   "metadata": {},
   "outputs": [],
   "source": [
    "# Checking for minute values > 59\n",
    "wrong_minutes = []\n",
    "for time in time_formatted:\n",
    "    if time[2:4] >= '60':\n",
    "        wrong_minutes.append(time)\n",
    "print(wrong_minutes)"
   ]
  },
  {
   "cell_type": "markdown",
   "id": "7992e47b-528d-4e23-ad8b-a10822911b7d",
   "metadata": {},
   "source": [
    "##### Standardizing times to hours in 12H format, isolating values with H > 24, adding colon for style"
   ]
  },
  {
   "cell_type": "code",
   "execution_count": null,
   "id": "45958986-680d-47ac-9376-9b04b8d11f88",
   "metadata": {},
   "outputs": [],
   "source": [
    "# Defining hour dictionary and empty lists\n",
    "time_dict = {'13':'01:', '14':'02:', '15':'03:', '16':'04:', '17':'05:', '18':'06:','19':'07:','20':'08:','21':'09:','22':'10:','23':'11:'}\n",
    "time_list = []\n",
    "times_over_24 = []\n",
    "\n",
    "for time in time_formatted:\n",
    "    if '00' <= time[0:2] <= '24':                                    # Time values within 00H - 24H range\n",
    "        if '01' <= time[0:2] <= '12':                                # Time values that have hours in 12H format (01 - 12)\n",
    "            time_list.append(time[0:2] + ':00' + time[4:])\n",
    "        elif '00' == time[0:2] or '24' == time[0:2]:                 # Midnight hours (00/24)\n",
    "            if re.search('.+AM', time):\n",
    "                time_list.append('12:00' + time[4:])\n",
    "            else:                                                    # PM values\n",
    "                time_list.append('12:00 ' + 'AM')\n",
    "        elif '13' <= time[0:2] <= '23':                              # Our data does not contain AM times with hour >12\n",
    "            for k,v in time_dict.items():                            # Iterate through keys, values in hour dictionary. colon already in values.\n",
    "                if k in time[0:2]:\n",
    "                    time_list.append(v + '00' + time[4:])                \n",
    "    else:                                                            # All times with hour > 24 (only PM exists in our data)\n",
    "        time_list.append(time[0:2] + ':00' + time[4:])\n",
    "        times_over_24.append(time[0:2] + ':00' + time[4:])"
   ]
  },
  {
   "cell_type": "code",
   "execution_count": null,
   "id": "771378bd-8e9d-46bf-a954-0d1e43fb236e",
   "metadata": {},
   "outputs": [],
   "source": [
    "# Save indices of times over 24 for drop\n",
    "bad_time_index = []\n",
    "for time in times_over_24:\n",
    "    bad_time_index.append(time_list.index(time))"
   ]
  },
  {
   "cell_type": "code",
   "execution_count": null,
   "id": "ff895a5b-23a4-4517-80a1-a6460815d665",
   "metadata": {},
   "outputs": [],
   "source": [
    "df3['violation_time'] = time_list\n",
    "df4 = df3.drop(df3.index[bad_time_index])"
   ]
  },
  {
   "cell_type": "code",
   "execution_count": null,
   "id": "946174ce-8d4b-4365-a090-50c566347486",
   "metadata": {},
   "outputs": [],
   "source": [
    "df4.describe(exclude=['datetime64[ns]', 'int64', 'float64'])"
   ]
  },
  {
   "cell_type": "markdown",
   "id": "e1cc8d34-3493-4b22-8548-3571e24b478a",
   "metadata": {},
   "source": [
    "### Replace body type NaN with mode per vehicle make"
   ]
  },
  {
   "cell_type": "code",
   "execution_count": null,
   "id": "c5caec82-3d27-4ce5-879a-8e2e0d8c0315",
   "metadata": {},
   "outputs": [],
   "source": [
    "# Upper case\n",
    "df4['vehicle_make'] = df4.vehicle_make.str.upper()\n",
    "df4['vehicle_body_type'] = df4.vehicle_body_type.str.upper()"
   ]
  },
  {
   "cell_type": "code",
   "execution_count": null,
   "id": "5915f679-1f92-42c9-ade2-92c5340b51d2",
   "metadata": {},
   "outputs": [],
   "source": [
    "# All missing body plate types are passenger (mode value)\n",
    "df_cars = df4[df4['plate_type'] == 'Passenger']\n",
    "df_cars = df_cars[['vehicle_make', 'vehicle_body_type']]\n",
    "\n",
    "# Find most frequent body types by vehicle make\n",
    "df_car_grp = df_cars.groupby(['vehicle_make', 'vehicle_body_type'], as_index = False).size()\n",
    "df_car_grp.sort_values(by=['size'], ascending = False, inplace = True)"
   ]
  },
  {
   "cell_type": "code",
   "execution_count": null,
   "id": "bdffe0e8-a737-437d-94fc-358ea598bfb5",
   "metadata": {},
   "outputs": [],
   "source": [
    "# Drop duplicates and create dictionary to replace values\n",
    "df_car_grp.drop_duplicates(subset = 'vehicle_make', inplace = True)\n",
    "car_dict = df_car_grp[['vehicle_make', 'vehicle_body_type']].set_index('vehicle_make').head(20).to_dict()\n",
    "car_dict = car_dict['vehicle_body_type']"
   ]
  },
  {
   "cell_type": "code",
   "execution_count": null,
   "id": "991386b4-76c2-41e9-92d2-c7e1d1759c0e",
   "metadata": {
    "tags": []
   },
   "outputs": [],
   "source": [
    "# Create df with remaining NaN rows\n",
    "narows = df4[df4.isna().any(axis=1)]\n",
    "\n",
    "# Replace NaN values with corresponding vechicle make's mode body type \n",
    "narows['vehicle_type'] = narows['vehicle_make']\n",
    "narows.replace({'vehicle_type':car_dict}, inplace=True)\n",
    "narows['vehicle_body_type'] = narows['vehicle_type']\n",
    "narows.drop(columns = 'vehicle_type', inplace = True)"
   ]
  },
  {
   "cell_type": "code",
   "execution_count": null,
   "id": "ff865d08-8150-45d0-89de-d7f9232ca624",
   "metadata": {},
   "outputs": [],
   "source": [
    "# Replace main df NaN rows by matching with temp df index\n",
    "df4.loc[narows.index, :] = narows[:]"
   ]
  },
  {
   "cell_type": "markdown",
   "id": "776e3297-da1a-41d4-b3f8-9bc98c9756a1",
   "metadata": {},
   "source": [
    "### Misc Data Standardization"
   ]
  },
  {
   "cell_type": "code",
   "execution_count": null,
   "id": "7ca71d2a-0942-4e8e-89d1-01d90fdec70c",
   "metadata": {},
   "outputs": [],
   "source": [
    "# Remove issuer_code == '0'\n",
    "df4 = df4[df4['issuer_code'] != 0]"
   ]
  },
  {
   "cell_type": "code",
   "execution_count": null,
   "id": "102fa3c8-2980-415a-8763-758569f4cba2",
   "metadata": {
    "tags": []
   },
   "outputs": [],
   "source": [
    "# Upper-casing\n",
    "df4 = df4.applymap(lambda x: x.upper() if type(x) == str else x)"
   ]
  },
  {
   "cell_type": "code",
   "execution_count": null,
   "id": "29fee947-4ef1-4ea0-8f10-9cd98cf363cb",
   "metadata": {},
   "outputs": [],
   "source": [
    "# Precinct as int\n",
    "df4['violation_precinct'] = df4.violation_precinct.astype('int64')"
   ]
  },
  {
   "cell_type": "code",
   "execution_count": null,
   "id": "5aa464bb-3454-4127-87a5-1dfa6f09b094",
   "metadata": {
    "tags": []
   },
   "outputs": [],
   "source": [
    "# Month column\n",
    "import datetime\n",
    "df4['month_year'] = pd.DatetimeIndex(df4['issue_date']).strftime('%b %Y').str.upper()"
   ]
  },
  {
   "cell_type": "markdown",
   "id": "d7a929e8-5d71-467e-8e7e-27b80b1805e5",
   "metadata": {},
   "source": [
    "### Standardizing Location Info"
   ]
  },
  {
   "cell_type": "code",
   "execution_count": null,
   "id": "62c7a226-e891-428f-b301-fe714a77c777",
   "metadata": {},
   "outputs": [],
   "source": [
    "# Standardize violation county as borough name\n",
    "county_dict = {'NY': 'MANHATTAN', 'K': 'BROOKLYN', 'Q': 'QUEENS', 'BX': 'BRONX', 'R': 'STATEN ISLAND', \n",
    "               'KINGS':'BROOKLYN', 'QNS': 'QUEENS', 'F': 'QUEENS', 'RICH':'STATEN ISLAND'} #Based off address, F stands for Flushing, Queens\n",
    "df4.replace({'violation_county':county_dict}, inplace = True) "
   ]
  },
  {
   "cell_type": "code",
   "execution_count": null,
   "id": "f4dfaa8d-066c-4772-a3a9-52be9b584ff6",
   "metadata": {},
   "outputs": [],
   "source": [
    "# Merge house_number and street_name into address\n",
    "# Consider using splchk_addr to spellcheck addresses. https://rdrr.io/github/gmculp/rNYCclean/man/splchk_addr.html\n",
    "df4['address'] = df4[['house_number', 'street_name', 'violation_county']].agg(' '.join, axis=1)"
   ]
  },
  {
   "cell_type": "markdown",
   "id": "a294d648-3319-4740-bf8a-830d2b35e594",
   "metadata": {},
   "source": [
    "### Standardizing Vehicle Color"
   ]
  },
  {
   "cell_type": "code",
   "execution_count": null,
   "id": "d7d0724a-d8c7-40dc-8991-74abe8adf908",
   "metadata": {},
   "outputs": [],
   "source": [
    "# https://data.ny.gov/api/assets/83055271-29A6-4ED4-9374-E159F30DB5AE contains NYC color codes\n",
    "color_counts = df4.groupby('vehicle_color', as_index = False).size()\n",
    "color_counts.sort_values(by=['size'], ascending = False, inplace = True)"
   ]
  },
  {
   "cell_type": "code",
   "execution_count": null,
   "id": "ff0458ed-bf14-40a3-b66c-f0566ae1c487",
   "metadata": {},
   "outputs": [],
   "source": [
    "# Color code dict derived from https://data.ny.gov/api/assets/83055271-29A6-4ED4-9374-E159F30DB5AE and manual interpretation of frequent misspellings \n",
    "color_dict = {\"BK\":\"BLACK\",\"BL\":\"BLUE\", \"BR\":\"BROWN\",\"GL\":\"YELLOW\",\"GY\":\"GRAY\",\"MR\":\"RED\",\"OR\":\"ORANGE\",\"PK\":\"PINK\",\"PR\":\"PURPLE\",\"RD\":\"RED\",\"TN\":\"BROWN\",\"WH\":\"WHITE\",\"YW\":\"YELLOW\",\"NOCL\":\"NO COLOR\",\n",
    "             \"GRY\":\"GRAY\",\"GRN\":\"GREEN\",\"BURG\":\"RED\",\"SIL\":\"GRAY\",\"WHT\":\"WHITE\",\"BLK\":\"BLACK\", \"GOLD\":\"YELLOW\",\"GLD\":\"YELLOW\",\"SILVER\":\"GRAY\",\"GREY\":\"GRAY\",\"BLU\":\"BLUE\",\"GRY\":\"GRAY\", \"GR\":\"GRAY\",\n",
    "             \"SILVE\":\"GRAY\",\"MAROON\":\"RED\",\"PURPL\":\"PURPLE\",\"YELLO\":\"YELLOW\",\"WHI\":\"WHITE\",\"WT\":\"WHITE\",\"ORANG\":\"ORANGE\",\"DKG\":\"GRAY\",\"GY\":\"GRAY\",\"GY/\":\"GRAY\",\"TAN\":\"BROWN\",\"W\":\"WHITE\",\"BRN\":\"BROWN\",\n",
    "              \"BRO\":\"BROWN\",\"SILV\":\"GRAY\",\"SLV\":\"GRAY\",\"WH/\":\"WHITE\",\"SL\":\"GRAY\",\"NO\":\"NO COLOR\",\"OTHER\":\"NO COLOR\",\"DKB\":\"BLUE\",\"LTB\":\"BLUE\",\"NOC\":\"NO COLOR\",\"WHB\":\"WHITE\",\"B\":\"BLACK\",\"LTG\":\"GRAY\",\n",
    "              \"LT/\":\"GRAY\",\"DK/\":\"BLACK\",\"GYB\":\"GRAY\",\"RD/\":\"RED\",\"BK/\":\"BLACK\",\"RDW\":\"RED\",\"WHG\":\"WHITE\",\"GN\":\"GREEN\",\"BLG\":\"BLACK\",\"GRW\":\"GRAY\",\"BL/\":\"BLUE\",\"G\":\"GRAY\",\"BLW\":\"BLACK\",\"LTT\":\"BROWN\",\n",
    "              \"BN\":\"BROWN\",\"BKG\":\"BLACK\",\"LAVEN\":\"PURPLE\",\"RDG\":\"RED\",\"MAROO\":\"RED\",\"WHTE\":\"WHITE\",\"LTGY\":\"GRAY\",\"OTH\":\"NO COLOR\",\"YELL\":\"YELLOW\",\"LT/GRY\":\"GRAY\",\"YEL\":\"YELLOW\",\"BW\":\"BROWN\",\"BRW\":\"BROWN\",\n",
    "             \"BEIGE\":\"BROWN\",\"BKW\":\"BLACK\",\"GD\":\"YELLOW\",\"DKR\":\"RED\",\"LT/GY\":\"GRAY\",'GR/':\"GRAY\",\"BLCK\":\"BLACK\",\"BLB\":\"BLUE\",\"SLVR\":\"GRAY\",\"MAR\":\"RED\",\"SV\":\"GRAY\",\"BRWN\":\"BROWN\",\"DK/GY\":\"GRAY\",\"R\":\"RED\",\n",
    "             \"BLA\":\"BLACK\",\"BLAK\":\"BLACK\",\"WHIT\":\"WHITE\",\"SILVR\":\"GRAY\",\"DKP\":\"PURPLE\",\"GRB\":\"GRAY\",\"DKGY\":\"GREEN\",\"GRG\":\"GREEN\",\"DKGY\":\"GRAY\",\"GRG\":\"GRAY\",\"BUR\":\"RED\",\"GYG\":\"GRAY\",\"DKM\":\"RED\",\"BURGU\":\"RED\",\n",
    "             \"BROW\":\"BROWN\",\"RDT\":\"RED\",\"WHO\":\"WHITE\",\"WTE\":\"WHITE\",\"SIV\":\"GRAY\",\"BLE\":\"BLUE\",\"BLAC\":\"BLACK\",\"PURP\":\"PURPLE\",\"BG\":\"BROWN\",\"ORG\":\"ORANGE\",\"GRE\":\"GREEN\",\"TNG\":\"BROWN\",\"DKBL\":\"BLUE\",\"PUR\":\"PURPLE\",\n",
    "             \"S\":\"GRAY\",\"BLN\":\"BLUE\",\"GRA\":\"GRAY\",\"Y\":\"YELLOW\",\"GRT\":\"GRAY\",\"BIEGE\":\"BROWN\",\"WHE\":\"WHITE\",\"BLT\":\"BLUE\",\"BKT\":\"BLACK\",\"GREN\":\"GREEN\",\"DK/RD\":\"RED\",\"ORA\":\"ORANGE\",\"TN/\":\"BROWN\",\"ORAN\":\"ORANGE\",\n",
    "             \"YE\":\"YELLOW\",\"LTBL\":\"BLUE\",\"BGE\":\"BROWN\",\"BRON\":\"BROWN\",\"YLW\":\"YELLOW\",\"TNR\":\"BROWN\",\"LTGR\":\"GRAY\",\"LTP\":\"PURPLE\",\"BWN\":\"BROWN\",\"DKRD\":\"RED\",\"DK/BL\":\"BLUE\",\"BL/GY\":\"BLUE\",\"LT/BL\":\"BLUE\",\n",
    "              \"YL\":\"YELLOW\", \"MULTI\":\"NO COLOR\",\"RUST\":\"BROWN\",\"PRB\":\"PURPLE\",\"BRT\":\"BROWN\",\"B L\":\"BLACK\",\"GYT\":\"GRAY\",\"LT/GR\":\"GRAY\",\"MARON\":\"RED\",\"GLB\":\"YELLOW\",\"DK/GR\":\"GRAY\",\"LT/TN\":\"BROWN\",\"BU\":\"BLUE\",\n",
    "             \"BURGA\":\"RED\",\"BKL\":\"BLACK\",\"SLVE\":\"GRAY\",\"NO CL\":\"NO COLOR\",\"BLWH\":\"BLACK\",\"MRG\":\"RED\",\"DKGR\":\"GRAY\",\"TEAL\":\"GREEN\",\"BY\":\"BLACK\",\"GEY\":\"GRAY\",\"BLRD\":\"BLUE\",\"SLR\":\"GRAY\",\"ORN\":\"ORANGE\",\"GT\":\"GRAY\",\n",
    "             \"O\":\"ORANGE\",\"GAY\":\"GRAY\",\"NLK\":\"BLACK\",\"GOL\":\"YELLOW\",\"GARY\":\"GRAY\",\"NAVY\":\"BLUE\",\"WJ\":\"WHITE\",\"RE\":\"RED\",\"BKJ\":\"BLACK\",\"BEI\":\"BROWN\",\"MA\":\"RED\",\"WHITW\":\"WHITE\",\"BLC\":\"BLACK\",\"SLVER\":\"GRAY\",\n",
    "             \"SLIVE\":\"GRAY\",\"BURGE\":\"RED\"}\n",
    "df4.replace({'vehicle_color':color_dict}, inplace = True) "
   ]
  },
  {
   "cell_type": "markdown",
   "id": "b9c59009-32ef-4082-96f3-762cace8272a",
   "metadata": {},
   "source": [
    "### Standardizing Vehicle Body Type"
   ]
  },
  {
   "cell_type": "code",
   "execution_count": null,
   "id": "b7580948-a5f7-4914-89e0-d9c62bb87830",
   "metadata": {},
   "outputs": [],
   "source": [
    "# https://data.ny.gov/api/assets/83055271-29A6-4ED4-9374-E159F30DB5AE\n",
    "body_counts = df4.groupby('vehicle_body_type', as_index = False).size()\n",
    "body_counts.sort_values(by=['size'], ascending = False, inplace = True)"
   ]
  },
  {
   "cell_type": "code",
   "execution_count": null,
   "id": "f2de4701-b234-4017-95f2-00dc33236c12",
   "metadata": {},
   "outputs": [],
   "source": [
    "body_dict = {\"FIRE\":\"FIRE TRUCK\",\"CONV\":\"CONVERTIBLE\",\"SEDN\":\"SEDAN\",\"SUBN\":\"SUV\",\"4DSD\":\"FOUR-DOOR SEDAN\",\"2DSD\":\"TWO-DOOR SEDAN\",\"H/WH\":\"HOUSE ON WHEELS\",\"ATV\":\"ALL TERRAIN VEHICLE\",\n",
    "             \"MCY\":\"MOTORCYCLE\",\"H/IN\":\"HEARSE\",\"LOCO\":\"LOCOMOTIVE\",\"CUST\":\"CUSTOM\",\"RPLC\":\"REPLICA\",\"AMBU\":\"AMBULANCE\",\"P/SH\":\"POWER SHOVEL\",\"RBM\":\"ROAD BUILDING MACHINE\",\"R/RD\":\"ROAD ROLLER\",\n",
    "             \"RD/S\":\"ROAD SWEEPER\",\"S/SP\":\"SAND SPRAYER\",\"SN/P\":\"SNOW PLOW\",\"TRAV\":\"SNOW TRAVELER\",\"MOBL\":\"SNOWMOBILE\",\"TR/E\":\"TRACTION ENGINE\",\"T/CR\":\"TRACTOR CRANE\",\"TR/C\":\"TRUCK CRANE\",\n",
    "             \"SWT\":\"TRUCK W/SMALL WHEELS\",\"W/DR\":\"WELL DRILLER\",\"W/SR\":\"WELL SERVICING RIG\",\"FPM\":\"FEED PROCESSING MACHINE\",\"MCC\":\"MOBILE CAR CRUSHER\",\"EMVR\":\"EARTH MOVER\",\"TRAC\":\"TRACTOR\",\n",
    "             \"N/A\":\"NOT APPLICABLE\",\"DELV\":\"DELIVERY TRUCK\",\"DUMP\":\"DUMP TRUCK\",\"FLAT\":\"FLAT BED TRUCK\",\"PICK\":\"PICK-UP TRUCK\",\"STAK\":\"STAKE TRUCK\",\"TANK\":\"TANK TRUCK\",\"REFG\":\"SEMI-TRAILER\",\n",
    "             \"TOW\":\"TOW TRUCK\",\"UTIL\":\"UTILITY\",\"POLE\":\"POLE TRAILER\",\"BOAT\":\"BOAT\",\"H/TR\":\"HOUSE TRAILER\",\"SEMI\":\"SEMI-TRAILER\",\"TRLR\":\"SEMI-TRAILER\",\"LTRL\":\"LIGHT TRAILER\",\n",
    "             \"LSVT\":\"LOW SPEED VEHICLE - TRUCK\",\"BUS\":\"BUS(OMNIBUS)\",\"LIM\":\"LIMOUSINE(OMNIBUS)\",\"HRSE\":\"HEARSE(AMBULANCE)\",\"TAXI\":\"TAXI\",\"DCOM\":\"DISABLED COMMERICAL\",\"CMIX\":\"CEMENT MIXER\",\n",
    "             \"MOPD\":\"MOPED\",\"MFH\":\"MANUFACTURED HOME\",\"SNOW\":\"SNOWMOBILE\",\"LSV\":\"LOW SPEED VEHICLE\",\"SDN\":\"SEDAN\",\"P-U\":\"PICK-UP TRUCK\",\"FOUR\":\"FOUR-DOOR SEDAN\",\"TRUC\":\"TRUCK\", \"TR\":\"TRUCK\",\n",
    "            \"TT\":\"SEMI-TRAILER\",\"TRAI\":\"SEMI-TRAILER\",\"MOT\":\"MOTORCYCLE\",\"MC\":\"MOTORCYCLE\",\"TRC\":\"SEMI-TRAILER\",\"TR\":\"SEMI-TRAILER\",\"REFR\":\"SEMI-TRAILER\",\"MOPE\":\"MOPED\",\"TRC\":\"TRUCK CRANE\",\"RF\":\"SEMI-TRAILER\",\n",
    "            \"TLR\":\"SEMI-TRAILER\",\"TRL\":\"SEMI-TRAILER\",\"TK\":\"TRUCK\",\"TRK\":\"TRUCK\",\"REFRIGERATOR TRAILER\":\"SEMI-TRAILER\", \"TL\":\"SEMI-TRAILER\",\"MOTO\":\"MOTORCYCLE\",\"HWH\":\"HOUSE ON WHEELS\",\n",
    "            \"CM\":\"CEMENT MIXER\",\"VAN TRUCK\":\"VAN\",\"SUBURBAN\":\"SUV\",\"RV\":\"HOUSE ON WHEELS\", \"HOUSE TRAILER\":\"HOUSE ON WHEELS\",\"JEEP\":\"SUV\",\"FREI\":\"SEMI-TRAILER\"}\n",
    "df4.replace({'vehicle_body_type':body_dict}, inplace = True) "
   ]
  },
  {
   "cell_type": "markdown",
   "id": "756c5881-3f35-49f0-9cf3-9b59cb73914a",
   "metadata": {
    "tags": []
   },
   "source": [
    "### Converting Manhattan violation fines to appropriate values"
   ]
  },
  {
   "cell_type": "code",
   "execution_count": null,
   "id": "38f220f8-2bf5-4958-a65b-7a34d18a701b",
   "metadata": {},
   "outputs": [],
   "source": [
    "df5 = df4.copy()\n",
    "df5.violation_fine = df5.violation_fine.astype(str)"
   ]
  },
  {
   "cell_type": "code",
   "execution_count": null,
   "id": "2f1c36a4-405e-4b62-80ea-bf966e10bdc9",
   "metadata": {
    "tags": []
   },
   "outputs": [],
   "source": [
    "# Will automate in future:\n",
    "df5.loc[(df5['violation_county'] == 'MANHATTAN') & (df5['violation'] == 'NO PARKING-DAY/TIME LIMITS'), 'violation_fine'] = df5.replace({'violation_fine':{'60.0':'65'}})\n",
    "df5.loc[(df5['violation_county'] == 'MANHATTAN') & (df5['violation'] == 'NO PARKING-STREET CLEANING'), 'violation_fine'] = df5.replace({'violation_fine':{'45.0':'65'}})\n",
    "df5.loc[(df5['violation_county'] == 'MANHATTAN') & (df5['violation'] == 'NO PARKING-TAXI STAND'), 'violation_fine'] = df5.replace({'violation_fine':{'60.0':'65'}})\n",
    "df5.loc[(df5['violation_county'] == 'MANHATTAN') & (df5['violation'] == 'NO PARKING-EXC. AUTH. VEHICLE'), 'violation_fine'] = df5.replace({'violation_fine':{'60.0':'65'}})\n",
    "df5.loc[(df5['violation_county'] == 'MANHATTAN') & (df5['violation'] == 'OT PARKING-MISSING/BROKEN METR'), 'violation_fine'] = df5.replace({'violation_fine':{'35.0':'65'}})\n",
    "df5.loc[(df5['violation_county'] == 'MANHATTAN') & (df5['violation'] == 'EXPIRED METER'), 'violation_fine'] = df5.replace({'violation_fine':{'35.0':'65'}})\n",
    "df5.loc[(df5['violation_county'] == 'MANHATTAN') & (df5['violation'] == 'SELLING/OFFERING MCHNDSE-METER'), 'violation_fine'] = df5.replace({'violation_fine':{'35.0':'65'}})\n",
    "df5.loc[(df5['violation_county'] == 'MANHATTAN') & (df5['violation'] == 'EXPIRED MUNI METER'), 'violation_fine'] = df5.replace({'violation_fine':{'35.0':'65'}})\n",
    "df5.loc[(df5['violation_county'] == 'MANHATTAN') & (df5['violation'] == 'FAIL TO DSPLY MUNI METER RECPT'), 'violation_fine'] = df5.replace({'violation_fine':{'35.0':'65'}})\n",
    "df5.loc[(df5['violation_county'] == 'MANHATTAN') & (df5['violation'] == 'OVERTIME PKG-TIME LIMIT POSTED'), 'violation_fine'] = df5.replace({'violation_fine':{'60.0':'65'}})\n",
    "df5.loc[(df5['violation_county'] == 'MANHATTAN') & (df5['violation'] == 'EXPIRED MUNI MTR-COMM MTR ZN'), 'violation_fine'] = df5.replace({'violation_fine':{'35.0':'65'}})\n",
    "df5.loc[(df5['violation_county'] == 'MANHATTAN') & (df5['violation'] == 'EXPIRED METER-COMM METER ZONE'), 'violation_fine'] = df5.replace({'violation_fine':{'35.0':'65'}})\n",
    "df5.loc[(df5['violation_county'] == 'MANHATTAN') & (df5['violation'] == 'PKG IN EXC. OF LIM-COMM MTR ZN'), 'violation_fine'] = df5.replace({'violation_fine':{'35.0':'65'}})\n",
    "df5.loc[(df5['violation_county'] == 'MANHATTAN') & (df5['violation'] == 'MARGINAL STREET/WATER FRONT'), 'violation_fine'] = df5.replace({'violation_fine':{'45.0':'65'}})\n",
    "df5.loc[(df5['violation_county'] == 'MANHATTAN') & (df5['violation'] == 'ANGLE PARKING'), 'violation_fine'] = df5.replace({'violation_fine':{'45.0':'65'}})\n",
    "df5.loc[(df5['violation_county'] == 'MANHATTAN') & (df5['violation'] == 'WRONG WAY'), 'violation_fine'] = df5.replace({'violation_fine':{'45.0':'65'}})\n",
    "df5.loc[(df5['violation_county'] == 'MANHATTAN') & (df5['violation'] == 'BEYOND MARKED SPACE'), 'violation_fine'] = df5.replace({'violation_fine':{'45.0':'65'}})\n",
    "df5.loc[(df5['violation_county'] == 'MANHATTAN') & (df5['violation'] == 'DETACHED TRAILER'), 'violation_fine'] = df5.replace({'violation_fine':{'45.0':'65'}})\n",
    "df5.loc[(df5['violation_county'] == 'MANHATTAN') & (df5['violation'] == 'NON-COMPLIANCE W/ POSTED SIGN'), 'violation_fine'] = df5.replace({'violation_fine':{'60.0':'65'}})\n",
    "df5.loc[(df5['violation_county'] == 'MANHATTAN') & (df5['violation'] == 'FAIL TO DISP. MUNI METER RECPT'), 'violation_fine'] = df5.replace({'violation_fine':{'35.0':'65'}})\n",
    "df5.loc[(df5['violation_county'] == 'MANHATTAN') & (df5['violation'] == 'PARKED BUS-EXC. DESIG. AREA'), 'violation_fine'] = df5.replace({'violation_fine':{'45.0':'65'}})\n",
    "df5.loc[(df5['violation_county'] == 'MANHATTAN') & (df5['violation'] == 'MISSING EQUIPMENT'), 'violation_fine'] = df5.replace({'violation_fine':{'45.0':'60'}})\n",
    "df5.loc[(df5['violation_county'] == 'MANHATTAN') & (df5['violation'] == 'PLTFRM LFTS LWRD POS COMM VEH'), 'violation_fine'] = df5.replace({'violation_fine':{'45.0':'65'}})\n",
    "df5.loc[(df5['violation_county'] == 'MANHATTAN') & (df5['violation'] == 'VEH-SALE/WSHNG/RPRNG/DRIVEWAY'), 'violation_fine'] = df5.replace({'violation_fine':{'25.0':'40'}})\n",
    "df5.loc[(df5['violation_county'] == 'MANHATTAN') & (df5['violation'] == 'VEHICLE FOR SALE(DEALERS ONLY)'), 'violation_fine'] = df5.replace({'violation_fine':{'45.0':'65'}})\n",
    "df5.loc[(df5['violation_county'] == 'MANHATTAN') & (df5['violation'] == 'WASH/REPAIR VEHCL-REPAIR ONLY'), 'violation_fine'] = df5.replace({'violation_fine':{'45.0':'65'}})\n",
    "df5.loc[(df5['violation_county'] == 'MANHATTAN') & (df5['violation'] == 'VACANT LOT'), 'violation_fine'] = df5.replace({'violation_fine':{'60.0':'65'}})"
   ]
  },
  {
   "cell_type": "code",
   "execution_count": null,
   "id": "977da142-58d8-49b0-ae6b-cf005d560048",
   "metadata": {
    "tags": []
   },
   "outputs": [],
   "source": [
    "df5['violation_fine'] = df5.violation_fine.astype('float64')"
   ]
  },
  {
   "cell_type": "code",
   "execution_count": null,
   "id": "b98c2a4d-772c-440b-a745-d4ccd3716332",
   "metadata": {
    "tags": []
   },
   "outputs": [],
   "source": [
    "df5.head()"
   ]
  },
  {
   "cell_type": "code",
   "execution_count": null,
   "id": "b1d14fec-a4e2-416c-8f0a-46a7fc582e64",
   "metadata": {},
   "outputs": [],
   "source": [
    "# Removing values after June 2021\n",
    "df5 = df5.loc[(df5['month_year'] != 'JUL 2021') & (df5['month_year'] != 'AUG 2021') & (df5['month_year'] != 'SEP 2021') & (df5['month_year'] != 'OCT 2021') & \n",
    "              (df5['month_year'] != 'NOV 2021') & (df5['month_year'] != 'DEC 2021')]"
   ]
  },
  {
   "cell_type": "code",
   "execution_count": null,
   "id": "1128f89f-3149-4e3e-b679-71f33180da68",
   "metadata": {},
   "outputs": [],
   "source": [
    "df5.to_csv('C:\\\\Users\\\\sarzy\\\\Documents\\\\Jupyter-lab\\\\2022 Parking Violations\\\\2021_parking_violations_cleaned_all_final.csv', index = False)"
   ]
  },
  {
   "cell_type": "code",
   "execution_count": null,
   "id": "1cb111c7-7845-4406-9fb9-18ea685f8a4d",
   "metadata": {},
   "outputs": [],
   "source": [
    "df5.info()"
   ]
  }
 ],
 "metadata": {
  "kernelspec": {
   "display_name": "Python 3 (ipykernel)",
   "language": "python",
   "name": "python3"
  },
  "language_info": {
   "codemirror_mode": {
    "name": "ipython",
    "version": 3
   },
   "file_extension": ".py",
   "mimetype": "text/x-python",
   "name": "python",
   "nbconvert_exporter": "python",
   "pygments_lexer": "ipython3",
   "version": "3.10.4"
  }
 },
 "nbformat": 4,
 "nbformat_minor": 5
}
